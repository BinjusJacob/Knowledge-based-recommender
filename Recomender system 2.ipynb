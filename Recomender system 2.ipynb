{
 "cells": [
  {
   "cell_type": "markdown",
   "id": "4ae1b79b",
   "metadata": {},
   "source": [
    "### Creating a Knowledge recommender system"
   ]
  },
  {
   "cell_type": "code",
   "execution_count": 2,
   "id": "e21c42a0",
   "metadata": {},
   "outputs": [],
   "source": [
    "import pandas as pd\n",
    "import numpy as np\n",
    "import warnings\n",
    "warnings.filterwarnings('ignore')"
   ]
  },
  {
   "cell_type": "code",
   "execution_count": 3,
   "id": "998ff01a",
   "metadata": {},
   "outputs": [],
   "source": [
    "RS_df=pd.read_csv(r\"C:\\Binjus Ds\\ml\\IMDB_series_data.csv\")"
   ]
  },
  {
   "cell_type": "code",
   "execution_count": 4,
   "id": "601e522e",
   "metadata": {},
   "outputs": [
    {
     "data": {
      "text/plain": [
       "(2000, 13)"
      ]
     },
     "execution_count": 4,
     "metadata": {},
     "output_type": "execute_result"
    }
   ],
   "source": [
    "RS_df.shape"
   ]
  },
  {
   "cell_type": "code",
   "execution_count": 5,
   "id": "e3ed1eb4",
   "metadata": {},
   "outputs": [
    {
     "data": {
      "text/html": [
       "<div>\n",
       "<style scoped>\n",
       "    .dataframe tbody tr th:only-of-type {\n",
       "        vertical-align: middle;\n",
       "    }\n",
       "\n",
       "    .dataframe tbody tr th {\n",
       "        vertical-align: top;\n",
       "    }\n",
       "\n",
       "    .dataframe thead th {\n",
       "        text-align: right;\n",
       "    }\n",
       "</style>\n",
       "<table border=\"1\" class=\"dataframe\">\n",
       "  <thead>\n",
       "    <tr style=\"text-align: right;\">\n",
       "      <th></th>\n",
       "      <th>Poster_Link</th>\n",
       "      <th>Series_Title</th>\n",
       "      <th>Runtime_of_Series</th>\n",
       "      <th>Certificate</th>\n",
       "      <th>Runtime_of_Episodes</th>\n",
       "      <th>Genre</th>\n",
       "      <th>IMDB_Rating</th>\n",
       "      <th>Overview</th>\n",
       "      <th>Star1</th>\n",
       "      <th>Star2</th>\n",
       "      <th>Star3</th>\n",
       "      <th>Star4</th>\n",
       "      <th>No_of_Votes</th>\n",
       "    </tr>\n",
       "  </thead>\n",
       "  <tbody>\n",
       "    <tr>\n",
       "      <th>0</th>\n",
       "      <td>https://m.media-amazon.com/images/M/MV5BYTRiND...</td>\n",
       "      <td>Game of Thrones</td>\n",
       "      <td>(2011–2019)</td>\n",
       "      <td>A</td>\n",
       "      <td>57 min</td>\n",
       "      <td>Action, Adventure, Drama</td>\n",
       "      <td>9.3</td>\n",
       "      <td>Nine noble families fight for control over the...</td>\n",
       "      <td>Emilia Clarke</td>\n",
       "      <td>Peter Dinklage</td>\n",
       "      <td>Kit Harington</td>\n",
       "      <td>Lena Headey</td>\n",
       "      <td>1773458</td>\n",
       "    </tr>\n",
       "    <tr>\n",
       "      <th>1</th>\n",
       "      <td>https://m.media-amazon.com/images/M/MV5BMjhiMz...</td>\n",
       "      <td>Breaking Bad</td>\n",
       "      <td>(2008–2013)</td>\n",
       "      <td>18</td>\n",
       "      <td>49 min</td>\n",
       "      <td>Crime, Drama, Thriller</td>\n",
       "      <td>9.5</td>\n",
       "      <td>A high school chemistry teacher diagnosed with...</td>\n",
       "      <td>Bryan Cranston</td>\n",
       "      <td>Aaron Paul</td>\n",
       "      <td>Anna Gunn</td>\n",
       "      <td>Betsy Brandt</td>\n",
       "      <td>1468887</td>\n",
       "    </tr>\n",
       "    <tr>\n",
       "      <th>2</th>\n",
       "      <td>https://m.media-amazon.com/images/M/MV5BMTc5Zm...</td>\n",
       "      <td>The Walking Dead</td>\n",
       "      <td>(2010– )</td>\n",
       "      <td>18+</td>\n",
       "      <td>44 min</td>\n",
       "      <td>Drama, Horror, Thriller</td>\n",
       "      <td>8.2</td>\n",
       "      <td>Sheriff Deputy Rick Grimes wakes up from a com...</td>\n",
       "      <td>Andrew Lincoln</td>\n",
       "      <td>Norman Reedus</td>\n",
       "      <td>Melissa McBride</td>\n",
       "      <td>Danai Gurira</td>\n",
       "      <td>854698</td>\n",
       "    </tr>\n",
       "    <tr>\n",
       "      <th>3</th>\n",
       "      <td>https://m.media-amazon.com/images/M/MV5BNDVkYj...</td>\n",
       "      <td>Friends</td>\n",
       "      <td>(1994–2004)</td>\n",
       "      <td>13+</td>\n",
       "      <td>22 min</td>\n",
       "      <td>Comedy, Romance</td>\n",
       "      <td>8.9</td>\n",
       "      <td>Follows the personal and professional lives of...</td>\n",
       "      <td>Jennifer Aniston</td>\n",
       "      <td>Courteney Cox</td>\n",
       "      <td>Lisa Kudrow</td>\n",
       "      <td>Matt LeBlanc</td>\n",
       "      <td>829816</td>\n",
       "    </tr>\n",
       "    <tr>\n",
       "      <th>4</th>\n",
       "      <td>https://m.media-amazon.com/images/M/MV5BMjEzMD...</td>\n",
       "      <td>Stranger Things</td>\n",
       "      <td>(2016– )</td>\n",
       "      <td>15</td>\n",
       "      <td>51 min</td>\n",
       "      <td>Drama, Fantasy, Horror</td>\n",
       "      <td>8.7</td>\n",
       "      <td>When a young boy disappears, his mother, a pol...</td>\n",
       "      <td>Millie Bobby Brown</td>\n",
       "      <td>Finn Wolfhard</td>\n",
       "      <td>Winona Ryder</td>\n",
       "      <td>David Harbour</td>\n",
       "      <td>824966</td>\n",
       "    </tr>\n",
       "  </tbody>\n",
       "</table>\n",
       "</div>"
      ],
      "text/plain": [
       "                                         Poster_Link      Series_Title  \\\n",
       "0  https://m.media-amazon.com/images/M/MV5BYTRiND...   Game of Thrones   \n",
       "1  https://m.media-amazon.com/images/M/MV5BMjhiMz...      Breaking Bad   \n",
       "2  https://m.media-amazon.com/images/M/MV5BMTc5Zm...  The Walking Dead   \n",
       "3  https://m.media-amazon.com/images/M/MV5BNDVkYj...           Friends   \n",
       "4  https://m.media-amazon.com/images/M/MV5BMjEzMD...   Stranger Things   \n",
       "\n",
       "  Runtime_of_Series Certificate Runtime_of_Episodes                     Genre  \\\n",
       "0       (2011–2019)           A              57 min  Action, Adventure, Drama   \n",
       "1       (2008–2013)          18              49 min    Crime, Drama, Thriller   \n",
       "2          (2010– )         18+              44 min   Drama, Horror, Thriller   \n",
       "3       (1994–2004)         13+              22 min           Comedy, Romance   \n",
       "4          (2016– )          15              51 min    Drama, Fantasy, Horror   \n",
       "\n",
       "   IMDB_Rating                                           Overview  \\\n",
       "0          9.3  Nine noble families fight for control over the...   \n",
       "1          9.5  A high school chemistry teacher diagnosed with...   \n",
       "2          8.2  Sheriff Deputy Rick Grimes wakes up from a com...   \n",
       "3          8.9  Follows the personal and professional lives of...   \n",
       "4          8.7  When a young boy disappears, his mother, a pol...   \n",
       "\n",
       "                Star1           Star2            Star3          Star4  \\\n",
       "0       Emilia Clarke  Peter Dinklage    Kit Harington    Lena Headey   \n",
       "1      Bryan Cranston      Aaron Paul        Anna Gunn   Betsy Brandt   \n",
       "2      Andrew Lincoln   Norman Reedus  Melissa McBride   Danai Gurira   \n",
       "3    Jennifer Aniston   Courteney Cox      Lisa Kudrow   Matt LeBlanc   \n",
       "4  Millie Bobby Brown   Finn Wolfhard     Winona Ryder  David Harbour   \n",
       "\n",
       "   No_of_Votes  \n",
       "0      1773458  \n",
       "1      1468887  \n",
       "2       854698  \n",
       "3       829816  \n",
       "4       824966  "
      ]
     },
     "execution_count": 5,
     "metadata": {},
     "output_type": "execute_result"
    }
   ],
   "source": [
    "RS_df.head()"
   ]
  },
  {
   "cell_type": "code",
   "execution_count": 6,
   "id": "ed5fea30",
   "metadata": {},
   "outputs": [
    {
     "data": {
      "text/plain": [
       "Index(['Poster_Link', 'Series_Title', 'Runtime_of_Series', 'Certificate',\n",
       "       'Runtime_of_Episodes', 'Genre', 'IMDB_Rating', 'Overview', 'Star1',\n",
       "       'Star2', 'Star3', 'Star4', 'No_of_Votes'],\n",
       "      dtype='object')"
      ]
     },
     "execution_count": 6,
     "metadata": {},
     "output_type": "execute_result"
    }
   ],
   "source": [
    "RS_df.columns"
   ]
  },
  {
   "cell_type": "markdown",
   "id": "72c0188e",
   "metadata": {},
   "source": [
    "#### Creating a data frame with relevant features for the recommendation system"
   ]
  },
  {
   "cell_type": "code",
   "execution_count": 7,
   "id": "54afb10a",
   "metadata": {},
   "outputs": [],
   "source": [
    "RS_df2=RS_df[[\"Series_Title\",\"Runtime_of_Series\",\"Certificate\",\"Genre\",\"IMDB_Rating\",\"No_of_Votes\"]]"
   ]
  },
  {
   "cell_type": "code",
   "execution_count": 8,
   "id": "246ac5a2",
   "metadata": {},
   "outputs": [
    {
     "data": {
      "text/plain": [
       "Series_Title          object\n",
       "Runtime_of_Series     object\n",
       "Certificate           object\n",
       "Genre                 object\n",
       "IMDB_Rating          float64\n",
       "No_of_Votes            int64\n",
       "dtype: object"
      ]
     },
     "execution_count": 8,
     "metadata": {},
     "output_type": "execute_result"
    }
   ],
   "source": [
    "RS_df2.dtypes"
   ]
  },
  {
   "cell_type": "code",
   "execution_count": 9,
   "id": "22f91201",
   "metadata": {},
   "outputs": [
    {
     "data": {
      "text/html": [
       "<div>\n",
       "<style scoped>\n",
       "    .dataframe tbody tr th:only-of-type {\n",
       "        vertical-align: middle;\n",
       "    }\n",
       "\n",
       "    .dataframe tbody tr th {\n",
       "        vertical-align: top;\n",
       "    }\n",
       "\n",
       "    .dataframe thead th {\n",
       "        text-align: right;\n",
       "    }\n",
       "</style>\n",
       "<table border=\"1\" class=\"dataframe\">\n",
       "  <thead>\n",
       "    <tr style=\"text-align: right;\">\n",
       "      <th></th>\n",
       "      <th>Series_Title</th>\n",
       "      <th>Runtime_of_Series</th>\n",
       "      <th>Certificate</th>\n",
       "      <th>Genre</th>\n",
       "      <th>IMDB_Rating</th>\n",
       "      <th>No_of_Votes</th>\n",
       "    </tr>\n",
       "  </thead>\n",
       "  <tbody>\n",
       "    <tr>\n",
       "      <th>0</th>\n",
       "      <td>Game of Thrones</td>\n",
       "      <td>(2011–2019)</td>\n",
       "      <td>A</td>\n",
       "      <td>Action, Adventure, Drama</td>\n",
       "      <td>9.3</td>\n",
       "      <td>1773458</td>\n",
       "    </tr>\n",
       "    <tr>\n",
       "      <th>1</th>\n",
       "      <td>Breaking Bad</td>\n",
       "      <td>(2008–2013)</td>\n",
       "      <td>18</td>\n",
       "      <td>Crime, Drama, Thriller</td>\n",
       "      <td>9.5</td>\n",
       "      <td>1468887</td>\n",
       "    </tr>\n",
       "    <tr>\n",
       "      <th>2</th>\n",
       "      <td>The Walking Dead</td>\n",
       "      <td>(2010– )</td>\n",
       "      <td>18+</td>\n",
       "      <td>Drama, Horror, Thriller</td>\n",
       "      <td>8.2</td>\n",
       "      <td>854698</td>\n",
       "    </tr>\n",
       "    <tr>\n",
       "      <th>3</th>\n",
       "      <td>Friends</td>\n",
       "      <td>(1994–2004)</td>\n",
       "      <td>13+</td>\n",
       "      <td>Comedy, Romance</td>\n",
       "      <td>8.9</td>\n",
       "      <td>829816</td>\n",
       "    </tr>\n",
       "    <tr>\n",
       "      <th>4</th>\n",
       "      <td>Stranger Things</td>\n",
       "      <td>(2016– )</td>\n",
       "      <td>15</td>\n",
       "      <td>Drama, Fantasy, Horror</td>\n",
       "      <td>8.7</td>\n",
       "      <td>824966</td>\n",
       "    </tr>\n",
       "  </tbody>\n",
       "</table>\n",
       "</div>"
      ],
      "text/plain": [
       "       Series_Title Runtime_of_Series Certificate                     Genre  \\\n",
       "0   Game of Thrones       (2011–2019)           A  Action, Adventure, Drama   \n",
       "1      Breaking Bad       (2008–2013)          18    Crime, Drama, Thriller   \n",
       "2  The Walking Dead          (2010– )         18+   Drama, Horror, Thriller   \n",
       "3           Friends       (1994–2004)         13+           Comedy, Romance   \n",
       "4   Stranger Things          (2016– )          15    Drama, Fantasy, Horror   \n",
       "\n",
       "   IMDB_Rating  No_of_Votes  \n",
       "0          9.3      1773458  \n",
       "1          9.5      1468887  \n",
       "2          8.2       854698  \n",
       "3          8.9       829816  \n",
       "4          8.7       824966  "
      ]
     },
     "execution_count": 9,
     "metadata": {},
     "output_type": "execute_result"
    }
   ],
   "source": [
    "RS_df2.head()"
   ]
  },
  {
   "cell_type": "markdown",
   "id": "5d51b163",
   "metadata": {},
   "source": [
    "#### checking values in feature Certificate"
   ]
  },
  {
   "cell_type": "code",
   "execution_count": 10,
   "id": "3eb9eec1",
   "metadata": {},
   "outputs": [
    {
     "data": {
      "text/plain": [
       "Certificate\n",
       "18           231\n",
       "16           133\n",
       "16+           49\n",
       "15+           45\n",
       "A             42\n",
       "13            42\n",
       "18+           41\n",
       "U             29\n",
       "12+           18\n",
       "7             16\n",
       "UA            14\n",
       "PG            13\n",
       "13+            9\n",
       "All            6\n",
       "Not Rated      6\n",
       "15             4\n",
       "7+             3\n",
       "R              2\n",
       "Name: count, dtype: int64"
      ]
     },
     "execution_count": 10,
     "metadata": {},
     "output_type": "execute_result"
    }
   ],
   "source": [
    "RS_df2[\"Certificate\"].value_counts()\n"
   ]
  },
  {
   "cell_type": "code",
   "execution_count": 11,
   "id": "7faaa82d",
   "metadata": {},
   "outputs": [
    {
     "data": {
      "text/plain": [
       "1297"
      ]
     },
     "execution_count": 11,
     "metadata": {},
     "output_type": "execute_result"
    }
   ],
   "source": [
    "RS_df2[\"Certificate\"].isnull().sum()"
   ]
  },
  {
   "cell_type": "code",
   "execution_count": 12,
   "id": "19ea9306",
   "metadata": {},
   "outputs": [
    {
     "data": {
      "text/plain": [
       "array(['A', '18', '18+', '13+', '15', 'UA', 'U', '15+', '16+', '12+',\n",
       "       '13', nan, '16', '7', '7+', 'PG', 'All', 'Not Rated', 'R'],\n",
       "      dtype=object)"
      ]
     },
     "execution_count": 12,
     "metadata": {},
     "output_type": "execute_result"
    }
   ],
   "source": [
    "RS_df2[\"Certificate\"].unique()"
   ]
  },
  {
   "cell_type": "markdown",
   "id": "1c561eee",
   "metadata": {},
   "source": [
    "#### treating null values in Certificate"
   ]
  },
  {
   "cell_type": "code",
   "execution_count": 13,
   "id": "df65478a",
   "metadata": {},
   "outputs": [],
   "source": [
    "RS_df2[\"Certificate\"].fillna(RS_df2[\"Certificate\"].mode()[0], inplace= True)"
   ]
  },
  {
   "cell_type": "code",
   "execution_count": 14,
   "id": "4f378066",
   "metadata": {},
   "outputs": [
    {
     "data": {
      "text/plain": [
       "0"
      ]
     },
     "execution_count": 14,
     "metadata": {},
     "output_type": "execute_result"
    }
   ],
   "source": [
    "RS_df2[\"Certificate\"].isnull().sum()"
   ]
  },
  {
   "cell_type": "markdown",
   "id": "6a62a848",
   "metadata": {},
   "source": [
    "#### checking values in Genre "
   ]
  },
  {
   "cell_type": "code",
   "execution_count": 15,
   "id": "7247599b",
   "metadata": {},
   "outputs": [
    {
     "data": {
      "text/plain": [
       "array(['Action, Adventure, Drama', 'Crime, Drama, Thriller',\n",
       "       'Drama, Horror, Thriller', 'Comedy, Romance',\n",
       "       'Drama, Fantasy, Horror', 'Crime, Drama, Mystery',\n",
       "       'Adventure, Drama, Fantasy', 'Action, Crime, Drama', 'Drama',\n",
       "       'Drama, Sci-Fi, Thriller', 'Drama, Mystery, Sci-Fi', 'Comedy',\n",
       "       'Drama, Mystery', 'Action, Adventure, Crime',\n",
       "       'Animation, Adventure, Comedy', 'Animation, Comedy',\n",
       "       'Comedy, Drama', 'Biography, Crime, Drama',\n",
       "       'Comedy, Drama, Romance', 'Crime, Drama',\n",
       "       'Action, Adventure, Fantasy', 'Action, Crime, Mystery',\n",
       "       'Action, Adventure, Sci-Fi', 'Comedy, Crime, Drama',\n",
       "       'Drama, Mystery, Thriller', 'Drama, Romance',\n",
       "       'Animation, Action, Adventure', 'Action, Comedy, Crime',\n",
       "       'Adventure, Drama, Sci-Fi', 'Animation, Crime, Drama',\n",
       "       'Crime, Drama, Fantasy', 'Drama, Fantasy, Sci-Fi',\n",
       "       'Drama, Fantasy, Mystery', 'Crime, Drama, Horror', 'Comedy, Crime',\n",
       "       'Action, Adventure, Biography', 'Animation, Comedy, Sci-Fi',\n",
       "       'Adventure, Fantasy, Romance', 'Adventure, Drama, Family',\n",
       "       'Crime, Drama, History', 'Action, Adventure, Comedy',\n",
       "       'Action, Drama, History', 'Drama, Mystery, Romance',\n",
       "       'Biography, Drama, History', 'Adventure, Comedy, Crime',\n",
       "       'Crime, Drama, Romance', 'Action, Drama, Sci-Fi',\n",
       "       'Animation, Action, Comedy', 'Comedy, Drama, Music',\n",
       "       'Action, Drama, Fantasy', 'Action, Comedy, Drama',\n",
       "       'Drama, Fantasy, Romance', 'Comedy, Family',\n",
       "       'Adventure, Drama, Romance', 'Comedy, Drama, Mystery',\n",
       "       'Comedy, Drama, Fantasy', 'Animation, Comedy, Drama',\n",
       "       'Drama, Horror, Sci-Fi', 'Adventure, Comedy, Reality-TV',\n",
       "       'Action, Adventure, Mystery', 'Drama, Horror, Mystery',\n",
       "       'Animation, Short, Comedy', 'Adventure, Drama',\n",
       "       'Action, Drama, Thriller', 'Adventure, Comedy, Drama',\n",
       "       'Documentary, Crime', 'Comedy, Crime, Mystery',\n",
       "       'Animation, Comedy, Family', 'Adventure, Drama, Mystery',\n",
       "       'Comedy, News, Talk-Show', 'Action, Drama, Mystery',\n",
       "       'Animation, Short, Action', 'Adventure, Biography, Drama',\n",
       "       'Drama, Romance, Sport', 'Drama, History, Romance',\n",
       "       'Drama, Thriller', 'Adventure, Drama, History',\n",
       "       'Action, Comedy, Fantasy', 'Comedy, Talk-Show',\n",
       "       'Crime, Mystery, Thriller', 'Action, Sci-Fi, Thriller',\n",
       "       'Animation, Comedy, Romance', 'Comedy, Horror', 'Drama, Sport',\n",
       "       'Comedy, Music, Musical', 'Comedy, Music',\n",
       "       'Adventure, Fantasy, Sci-Fi', 'Comedy, Drama, Family',\n",
       "       'Comedy, Drama, Sport', 'Animation, Action, Drama',\n",
       "       'Action, Comedy', 'Comedy, Drama, War',\n",
       "       'Documentary, Mystery, Reality-TV', 'Comedy, Sport', 'Comedy, War',\n",
       "       'Drama, Western', 'Drama, Sci-Fi', 'Comedy, Family, Sci-Fi',\n",
       "       'Drama, History', 'Drama, Fantasy', 'Comedy, Sci-Fi',\n",
       "       'Comedy, Mystery, Sci-Fi', 'Comedy, Game-Show', 'Action, Drama',\n",
       "       'Drama, Family', 'Animation, Action, Family',\n",
       "       'Comedy, Family, Romance', 'Drama, Music', 'Comedy, Family, Music',\n",
       "       'Comedy, Fantasy, Horror', 'Drama, Horror, Romance',\n",
       "       'Comedy, Horror, Mystery', 'Comedy, Family, Fantasy',\n",
       "       'Comedy, Drama, Western', 'Comedy, Reality-TV',\n",
       "       'Adventure, Comedy, Sci-Fi', 'Comedy, Fantasy, Music',\n",
       "       'Action, Fantasy, Sci-Fi', 'Crime',\n",
       "       'Documentary, Adventure, Comedy', 'Action, Drama, Horror',\n",
       "       'Animation, Action, Fantasy', 'Animation, Comedy, Music',\n",
       "       'Drama, Family, Reality-TV', 'Animation, Action, Horror',\n",
       "       'Comedy, Drama, Sci-Fi', 'Documentary', 'Comedy, History, War',\n",
       "       'Drama, Music, Romance', 'Documentary, Short',\n",
       "       'Drama, Fantasy, History', 'Drama, Family, Romance',\n",
       "       'Comedy, Drama, Reality-TV', 'Comedy, Drama, Thriller',\n",
       "       'Comedy, Music, Talk-Show', 'Adventure, Game-Show, Reality-TV',\n",
       "       'Adventure, Reality-TV', 'Animation, Adventure, Drama',\n",
       "       'Comedy, Crime, Fantasy', 'Action, Comedy, Reality-TV',\n",
       "       'Drama, Music, Musical', 'Game-Show, Music, Reality-TV',\n",
       "       'Drama, Romance, Sci-Fi', 'Comedy, Fantasy, Musical',\n",
       "       'Action, Adventure, Family', 'Documentary, Comedy',\n",
       "       'Documentary, Sport', 'Drama, History, War',\n",
       "       'Action, Crime, Horror', 'Animation, Comedy, Reality-TV',\n",
       "       'Documentary, Crime, Drama', 'Game-Show, Reality-TV',\n",
       "       'Biography, Comedy, Drama', 'Animation, Action, Crime',\n",
       "       'Drama, Horror', 'Action, Crime, Thriller',\n",
       "       'Animation, Short, Adventure', 'Animation, Drama, Music',\n",
       "       'Action, Fantasy, Mystery', 'Comedy, Musical',\n",
       "       'Mystery, Sci-Fi, Thriller', 'Drama, Musical',\n",
       "       'Action, Drama, War', 'Animation, Comedy, Talk-Show',\n",
       "       'Animation, Family, Comedy', 'Reality-TV',\n",
       "       'Comedy, Family, Horror', 'Comedy, News',\n",
       "       'Adventure, Comedy, Fantasy', 'Comedy, Fantasy, Sci-Fi',\n",
       "       'Animation, Drama, Fantasy', 'Sci-Fi',\n",
       "       'Adventure, Family, Game-Show', 'Drama, Family, Fantasy',\n",
       "       'Crime, Thriller', 'Action, Romance, Sci-Fi',\n",
       "       'Comedy, Drama, Horror', 'Drama, Romance, Thriller',\n",
       "       'Documentary, Comedy, Crime', 'Family, Fantasy, Horror',\n",
       "       'Action, Crime', 'Comedy, Documentary', 'Horror',\n",
       "       'Crime, Drama, Sci-Fi', 'Animation, Drama, Horror',\n",
       "       'Drama, Reality-TV', 'Comedy, Drama, Musical',\n",
       "       'Animation, Family, Horror', 'Drama, Family, Western',\n",
       "       'Comedy, Family, Musical', 'Comedy, Mystery, Romance',\n",
       "       'Comedy, Reality-TV, Talk-Show', 'Biography, Crime, History',\n",
       "       'Short, Comedy', 'Animation, Family, Fantasy',\n",
       "       'Documentary, Fantasy, History', 'Comedy, Fantasy, Romance',\n",
       "       'Animation, Comedy, Fantasy', 'Family, Game-Show, Music',\n",
       "       'Comedy, History', 'Comedy, Game-Show, Reality-TV',\n",
       "       'Action, Drama, Romance', 'Fantasy, Romance, Sci-Fi',\n",
       "       'Adventure, Mystery, Thriller', 'Comedy, Fantasy',\n",
       "       'Comedy, Crime, Family', 'Documentary, Crime, Mystery',\n",
       "       'Family, Reality-TV', 'Action, Thriller', 'Action, Sport',\n",
       "       'Documentary, History, Reality-TV', 'Action', 'Western',\n",
       "       'Short, Comedy, Talk-Show', 'Action, Horror, Thriller',\n",
       "       'Game-Show, Reality-TV, Romance',\n",
       "       'Documentary, Adventure, Reality-TV', 'Family, Fantasy, Music',\n",
       "       'Musical, Romance', 'Thriller', 'Animation, Action, Sci-Fi',\n",
       "       'Adventure, Fantasy', 'Comedy, Family, Game-Show',\n",
       "       'Fantasy, Horror, Sci-Fi', 'Action, Sci-Fi, Animation',\n",
       "       'Family, Fantasy, Musical', 'Animation, Comedy, Horror',\n",
       "       'Documentary, Talk-Show', 'Documentary, Reality-TV',\n",
       "       'Crime, Drama, Western', 'Adventure, Comedy, Family',\n",
       "       'Animation, Comedy, Crime', 'Drama, Romance, War',\n",
       "       'Documentary, Comedy, Family', 'Comedy, Crime, Thriller',\n",
       "       'Talk-Show', 'Horror, Sci-Fi', 'Action, Crime, Fantasy',\n",
       "       'Biography, Crime', 'Fantasy, Mystery, Romance',\n",
       "       'Mystery, Thriller', 'Drama, Game-Show, Reality-TV',\n",
       "       'Game-Show, Reality-TV, Thriller', 'Drama, War',\n",
       "       'Comedy, Romance, Thriller', 'Animation, Comedy, History',\n",
       "       'Crime, Fantasy, Drama', 'Fantasy, Mystery, Adventure',\n",
       "       'Documentary, Adventure', 'Game-Show', 'Adventure, Comedy',\n",
       "       'Animation, Drama, Family', 'Documentary, Biography, Drama',\n",
       "       'Music, Reality-TV', 'Biography, History, Mystery',\n",
       "       'Comedy, Crime, Horror', 'Animation, Adventure, Sci-Fi',\n",
       "       'Animation, Drama, Mystery', 'Documentary, Reality-TV, Sport',\n",
       "       'Action, Crime, Reality-TV', 'Animation, Comedy, Sport',\n",
       "       'Family, Sci-Fi', 'Comedy, Game-Show, News',\n",
       "       'Documentary, History', 'Adventure, Drama, Western',\n",
       "       'Comedy, Game-Show, Music', 'Drama, Fantasy, Thriller'],\n",
       "      dtype=object)"
      ]
     },
     "execution_count": 15,
     "metadata": {},
     "output_type": "execute_result"
    }
   ],
   "source": [
    "RS_df2[\"Genre\"].unique()"
   ]
  },
  {
   "cell_type": "code",
   "execution_count": 16,
   "id": "de27a0dc",
   "metadata": {},
   "outputs": [
    {
     "data": {
      "text/plain": [
       "0"
      ]
     },
     "execution_count": 16,
     "metadata": {},
     "output_type": "execute_result"
    }
   ],
   "source": [
    "RS_df2[\"Genre\"].isnull().sum()"
   ]
  },
  {
   "cell_type": "code",
   "execution_count": 17,
   "id": "12c507b4",
   "metadata": {},
   "outputs": [
    {
     "data": {
      "text/plain": [
       "0           Action, Adventure, Drama\n",
       "1             Crime, Drama, Thriller\n",
       "2            Drama, Horror, Thriller\n",
       "3                    Comedy, Romance\n",
       "4             Drama, Fantasy, Horror\n",
       "                    ...             \n",
       "1995    Animation, Action, Adventure\n",
       "1996        Adventure, Comedy, Drama\n",
       "1997                         Western\n",
       "1998           Action, Drama, Sci-Fi\n",
       "1999              Comedy, Reality-TV\n",
       "Name: Genre, Length: 2000, dtype: object"
      ]
     },
     "execution_count": 17,
     "metadata": {},
     "output_type": "execute_result"
    }
   ],
   "source": [
    "RS_df2[\"Genre\"]"
   ]
  },
  {
   "cell_type": "markdown",
   "id": "b66e5e8b",
   "metadata": {},
   "source": [
    "- Genre contains more than 1 values seperated by commas in a single string\n",
    "- 1st we have convert it into a list and then have to seperate each values included in a single row"
   ]
  },
  {
   "cell_type": "markdown",
   "id": "d9bea22f",
   "metadata": {},
   "source": [
    "#### Converting values in Genre into a list"
   ]
  },
  {
   "cell_type": "code",
   "execution_count": 18,
   "id": "7dba4fad",
   "metadata": {},
   "outputs": [],
   "source": [
    "RS_df2[\"Genre\"] = list(map(lambda x: x.split(', '), RS_df2[\"Genre\"]))\n"
   ]
  },
  {
   "cell_type": "code",
   "execution_count": 19,
   "id": "cc350e29",
   "metadata": {},
   "outputs": [
    {
     "data": {
      "text/plain": [
       "0           [Action, Adventure, Drama]\n",
       "1             [Crime, Drama, Thriller]\n",
       "2            [Drama, Horror, Thriller]\n",
       "3                    [Comedy, Romance]\n",
       "4             [Drama, Fantasy, Horror]\n",
       "                     ...              \n",
       "1995    [Animation, Action, Adventure]\n",
       "1996        [Adventure, Comedy, Drama]\n",
       "1997                         [Western]\n",
       "1998           [Action, Drama, Sci-Fi]\n",
       "1999              [Comedy, Reality-TV]\n",
       "Name: Genre, Length: 2000, dtype: object"
      ]
     },
     "execution_count": 19,
     "metadata": {},
     "output_type": "execute_result"
    }
   ],
   "source": [
    "RS_df2[\"Genre\"]"
   ]
  },
  {
   "cell_type": "code",
   "execution_count": 55,
   "id": "00438e1c",
   "metadata": {},
   "outputs": [],
   "source": [
    "clean_imdb=RS_df2.copy()"
   ]
  },
  {
   "cell_type": "code",
   "execution_count": 56,
   "id": "b96e3b9b",
   "metadata": {},
   "outputs": [],
   "source": [
    "clean_imdb.to_csv(\"clean_imdb.csv\")"
   ]
  },
  {
   "cell_type": "markdown",
   "id": "82fb1f5f",
   "metadata": {},
   "source": [
    "#### seperating values within a single row"
   ]
  },
  {
   "cell_type": "code",
   "execution_count": 20,
   "id": "457e116d",
   "metadata": {},
   "outputs": [],
   "source": [
    "s = RS_df2.apply(lambda x: pd.Series(x['Genre']),axis=1).stack().reset_index(level=1,drop=True)"
   ]
  },
  {
   "cell_type": "code",
   "execution_count": 21,
   "id": "400a5603",
   "metadata": {},
   "outputs": [
    {
     "data": {
      "text/plain": [
       "0           Action\n",
       "0        Adventure\n",
       "0            Drama\n",
       "1            Crime\n",
       "1            Drama\n",
       "           ...    \n",
       "1998        Action\n",
       "1998         Drama\n",
       "1998        Sci-Fi\n",
       "1999        Comedy\n",
       "1999    Reality-TV\n",
       "Length: 4996, dtype: object"
      ]
     },
     "execution_count": 21,
     "metadata": {},
     "output_type": "execute_result"
    }
   ],
   "source": [
    "s"
   ]
  },
  {
   "cell_type": "code",
   "execution_count": 22,
   "id": "65f89209",
   "metadata": {},
   "outputs": [],
   "source": [
    "s.name='Genre'"
   ]
  },
  {
   "cell_type": "markdown",
   "id": "c7a07322",
   "metadata": {},
   "source": [
    "#### joining this series into the data frame replacing already existing Genre"
   ]
  },
  {
   "cell_type": "code",
   "execution_count": 23,
   "id": "b2b366fd",
   "metadata": {},
   "outputs": [],
   "source": [
    "gen_df = RS_df2.drop('Genre',axis=1).join(s)"
   ]
  },
  {
   "cell_type": "code",
   "execution_count": 24,
   "id": "c3ee7e91",
   "metadata": {},
   "outputs": [
    {
     "data": {
      "text/html": [
       "<div>\n",
       "<style scoped>\n",
       "    .dataframe tbody tr th:only-of-type {\n",
       "        vertical-align: middle;\n",
       "    }\n",
       "\n",
       "    .dataframe tbody tr th {\n",
       "        vertical-align: top;\n",
       "    }\n",
       "\n",
       "    .dataframe thead th {\n",
       "        text-align: right;\n",
       "    }\n",
       "</style>\n",
       "<table border=\"1\" class=\"dataframe\">\n",
       "  <thead>\n",
       "    <tr style=\"text-align: right;\">\n",
       "      <th></th>\n",
       "      <th>Series_Title</th>\n",
       "      <th>Runtime_of_Series</th>\n",
       "      <th>Certificate</th>\n",
       "      <th>IMDB_Rating</th>\n",
       "      <th>No_of_Votes</th>\n",
       "      <th>Genre</th>\n",
       "    </tr>\n",
       "  </thead>\n",
       "  <tbody>\n",
       "    <tr>\n",
       "      <th>0</th>\n",
       "      <td>Game of Thrones</td>\n",
       "      <td>(2011–2019)</td>\n",
       "      <td>A</td>\n",
       "      <td>9.3</td>\n",
       "      <td>1773458</td>\n",
       "      <td>Action</td>\n",
       "    </tr>\n",
       "    <tr>\n",
       "      <th>0</th>\n",
       "      <td>Game of Thrones</td>\n",
       "      <td>(2011–2019)</td>\n",
       "      <td>A</td>\n",
       "      <td>9.3</td>\n",
       "      <td>1773458</td>\n",
       "      <td>Adventure</td>\n",
       "    </tr>\n",
       "    <tr>\n",
       "      <th>0</th>\n",
       "      <td>Game of Thrones</td>\n",
       "      <td>(2011–2019)</td>\n",
       "      <td>A</td>\n",
       "      <td>9.3</td>\n",
       "      <td>1773458</td>\n",
       "      <td>Drama</td>\n",
       "    </tr>\n",
       "    <tr>\n",
       "      <th>1</th>\n",
       "      <td>Breaking Bad</td>\n",
       "      <td>(2008–2013)</td>\n",
       "      <td>18</td>\n",
       "      <td>9.5</td>\n",
       "      <td>1468887</td>\n",
       "      <td>Crime</td>\n",
       "    </tr>\n",
       "    <tr>\n",
       "      <th>1</th>\n",
       "      <td>Breaking Bad</td>\n",
       "      <td>(2008–2013)</td>\n",
       "      <td>18</td>\n",
       "      <td>9.5</td>\n",
       "      <td>1468887</td>\n",
       "      <td>Drama</td>\n",
       "    </tr>\n",
       "    <tr>\n",
       "      <th>...</th>\n",
       "      <td>...</td>\n",
       "      <td>...</td>\n",
       "      <td>...</td>\n",
       "      <td>...</td>\n",
       "      <td>...</td>\n",
       "      <td>...</td>\n",
       "    </tr>\n",
       "    <tr>\n",
       "      <th>1998</th>\n",
       "      <td>The Cheat</td>\n",
       "      <td>(2017– )</td>\n",
       "      <td>18</td>\n",
       "      <td>8.8</td>\n",
       "      <td>5111</td>\n",
       "      <td>Action</td>\n",
       "    </tr>\n",
       "    <tr>\n",
       "      <th>1998</th>\n",
       "      <td>The Cheat</td>\n",
       "      <td>(2017– )</td>\n",
       "      <td>18</td>\n",
       "      <td>8.8</td>\n",
       "      <td>5111</td>\n",
       "      <td>Drama</td>\n",
       "    </tr>\n",
       "    <tr>\n",
       "      <th>1998</th>\n",
       "      <td>The Cheat</td>\n",
       "      <td>(2017– )</td>\n",
       "      <td>18</td>\n",
       "      <td>8.8</td>\n",
       "      <td>5111</td>\n",
       "      <td>Sci-Fi</td>\n",
       "    </tr>\n",
       "    <tr>\n",
       "      <th>1999</th>\n",
       "      <td>Comic Book Men</td>\n",
       "      <td>(2012–2018)</td>\n",
       "      <td>18</td>\n",
       "      <td>7.7</td>\n",
       "      <td>5109</td>\n",
       "      <td>Comedy</td>\n",
       "    </tr>\n",
       "    <tr>\n",
       "      <th>1999</th>\n",
       "      <td>Comic Book Men</td>\n",
       "      <td>(2012–2018)</td>\n",
       "      <td>18</td>\n",
       "      <td>7.7</td>\n",
       "      <td>5109</td>\n",
       "      <td>Reality-TV</td>\n",
       "    </tr>\n",
       "  </tbody>\n",
       "</table>\n",
       "<p>4996 rows × 6 columns</p>\n",
       "</div>"
      ],
      "text/plain": [
       "         Series_Title Runtime_of_Series Certificate  IMDB_Rating  No_of_Votes  \\\n",
       "0     Game of Thrones       (2011–2019)           A          9.3      1773458   \n",
       "0     Game of Thrones       (2011–2019)           A          9.3      1773458   \n",
       "0     Game of Thrones       (2011–2019)           A          9.3      1773458   \n",
       "1        Breaking Bad       (2008–2013)          18          9.5      1468887   \n",
       "1        Breaking Bad       (2008–2013)          18          9.5      1468887   \n",
       "...               ...               ...         ...          ...          ...   \n",
       "1998        The Cheat          (2017– )          18          8.8         5111   \n",
       "1998        The Cheat          (2017– )          18          8.8         5111   \n",
       "1998        The Cheat          (2017– )          18          8.8         5111   \n",
       "1999   Comic Book Men       (2012–2018)          18          7.7         5109   \n",
       "1999   Comic Book Men       (2012–2018)          18          7.7         5109   \n",
       "\n",
       "           Genre  \n",
       "0         Action  \n",
       "0      Adventure  \n",
       "0          Drama  \n",
       "1          Crime  \n",
       "1          Drama  \n",
       "...          ...  \n",
       "1998      Action  \n",
       "1998       Drama  \n",
       "1998      Sci-Fi  \n",
       "1999      Comedy  \n",
       "1999  Reality-TV  \n",
       "\n",
       "[4996 rows x 6 columns]"
      ]
     },
     "execution_count": 24,
     "metadata": {},
     "output_type": "execute_result"
    }
   ],
   "source": [
    "gen_df"
   ]
  },
  {
   "cell_type": "markdown",
   "id": "4548dfcb",
   "metadata": {},
   "source": [
    "#### checking values in Runtime_of_Series"
   ]
  },
  {
   "cell_type": "code",
   "execution_count": 25,
   "id": "bb2b53df",
   "metadata": {},
   "outputs": [
    {
     "data": {
      "text/plain": [
       "array(['(2011–2019)', '(2008–2013)', '(2010– )', '(1994–2004)',\n",
       "       '(2016– )', '(2010–2017)', '(2007–2019)', '(2006–2021)',\n",
       "       '(2005–2014)', '(2014– )', '(2004–2010)', '(2005–2017)',\n",
       "       '(2013–2018)', '(2011– )', '(2013–2020)', '(2005–2013)',\n",
       "       '(2004–2012)', '(2012–2020)', '(2005–2020)', '(2013– )',\n",
       "       '(1989– )', '(2015–2018)', '(2015–2017)', '(2009–2020)',\n",
       "       '(2015–2019)', '(1997– )', '(2015–2021)', '(2011–2020)',\n",
       "       '(1999– )', '(1999–2007)', '(2019– )', '(2017– )', '(2002–2008)',\n",
       "       '(2017–2020)', '(2009–2017)', '(2013–2019)', '(2003–2019)',\n",
       "       '(2008–2014)', '(1989–1998)', '(2005– )', '(2005–2008)',\n",
       "       '(2002–2003)', '(2003–2015)', '(2006–2007)', '(2001–2010)',\n",
       "       '(II) (2006–2010)', '(2013–2015)', '(2013–2022)', '(2010–2013)',\n",
       "       '(2009–2015)', '(2017–2019)', '(2014–2020)', '(1999–2013)',\n",
       "       '(2014–2019)', '(2011–2018)', '(2007–2015)', '(2011–2021)',\n",
       "       '(1993–2018)', '(1990–1991)', '(2010–2014)', '(2007–2014)',\n",
       "       '(2008– )', '(2010–2015)', '(2011–2016)', '(2004–2011)',\n",
       "       '(2005–2007)', '(2007–2012)', '(1998–2006)', '(2004–2009)',\n",
       "       '(2018– )', '(2018–2020)', '(2009–2016)', '(2009– )',\n",
       "       '(2006–2013)', '(1997–2003)', '(1999–2000)', '(2011–2017)',\n",
       "       '(2009–2012)', '(1990–1996)', '(2010–2019)', '(2001–2005)',\n",
       "       '(2003– )', '(2009–2014)', '(2000–2006)', '(2016–2018)',\n",
       "       '(2015– )', '(2001–2011)', '(2016–2020)', '(2017–2018)',\n",
       "       '(1996–2003)', '(2011–2015)', '(2014–2016)', '(2009–2011)',\n",
       "       '(2002– )', '(1998–2004)', '(2012–2014)', '(2000– )',\n",
       "       '(1990–1995)', '(2005–2012)', '(1987–1994)', '(2016–2019)',\n",
       "       '(2013–2017)', '(2000–2007)', '(2012–2019)', '(2001–2003)',\n",
       "       '(2011–2014)', '(1987–1997)', '(2005–2009)', '(2004–2006)',\n",
       "       '-2018', '(2009–2013)', '(2014–2017)', '(1998–1999)',\n",
       "       '(1992–1995)', '(2013–2016)', '-2020', '(2006–2014)',\n",
       "       '(1975–1979)', '(2007–2017)', '(I) (2013–2016)', '(1997–2007)',\n",
       "       '(2003–2007)', '(2008–2010)', '-2011', '(2000–2015)',\n",
       "       '(2010–2018)', '(1998–2007)', '(2018–2019)', '(2007–2013)',\n",
       "       '(2012–2016)', '(1993–2004)', '(2008–2012)', '(1966–1969)',\n",
       "       '(2015–2016)', '(2003–2012)', '(1959–1964)', '(2002–2007)',\n",
       "       '(2015–2020)', '(2007–2010)', '(1989–1996)', '(1969–1974)',\n",
       "       '(2020– )', '(2004–2019)', '(2012–2018)', '(2010–2020)',\n",
       "       '(I) (2018– )', '(2002–2009)', '(2012–2017)', '(1999–2006)',\n",
       "       '(1999–2004)', '(1996– )', '(2008–2020)', '(2003–2004)',\n",
       "       '(2017–2021)', '(1995–2001)', '(2009–2010)', '(I) (2012–2015)',\n",
       "       '(2008–2009)', '-2017', '(2006–2011)', '(2007–2009)',\n",
       "       '(2003–2006)', '(2000–2004)', '(2014–2018)', '(2016–2017)',\n",
       "       '(2006–2008)', '(2002–2012)', '(1995–2003)', '(2021– )',\n",
       "       '(1993–1999)', '(2014–2015)', '(1987–1995)', '(2003–2010)',\n",
       "       '(I) (2019– )', '(II) (2017– )', '(2006–2012)', '(1998–2020)',\n",
       "       '(1995–1996)', '(1994–2009)', '(1999–2001)', '(1972–1983)',\n",
       "       '(2010–2011)', '-1989', '(2011–2013)', '(1982–1993)',\n",
       "       '(1986–1989)', '(2013–2014)', '(1996–2001)', '(1981–2003)',\n",
       "       '(2001–2017)', '(1997–2010)', '(2001–2006)', '(2011–2012)',\n",
       "       '(2009–2018)', '(I) (2009–2015)', '(2004–2013)', '-1986',\n",
       "       '(1975– )', '(2005–2010)', '(2004–2008)', '(2003–2005)',\n",
       "       '(2004–2007)', '(2012–2013)', '(I) (2013–2014)', '(2001–2004)',\n",
       "       '-1987', '(2004–2005)', '(1991–1999)', '(2006–2010)',\n",
       "       '(I) (2014–2020)', '(1988–2018)', '(1993–2000)', '(2012– )',\n",
       "       '-2012', '(1989–2013)', '(1999–2002)', '(1992–1997)',\n",
       "       '(2001–2018)', '(1998–2005)', '-2014', '(1995–1998)',\n",
       "       '(1998–2003)', '(1982–1983)', '(1985–1992)', '(1963–1989)',\n",
       "       '(1983–1987)', '(1988–1993)', '(2001–2009)', '(1999–2003)',\n",
       "       '(1999–2008)', '(1960–1966)', '(1997–2004)', '(1988– )',\n",
       "       '(I) (2007–2009)', '(1989–1992)', '(1990–2006)', '(1990–2010)',\n",
       "       '(1986–1990)', '(1984–1992)', '(1990–2000)', '(1960–1975)',\n",
       "       '(2000–2002)', '(1987–1996)', '(1996–2004)', '(1997–2002)',\n",
       "       '(1982–1986)', '(1969–1970)', '(2010–2012)', '(2010–2016)',\n",
       "       '(1987–1990)', '(1997–1998)', '(2013–2021)', '(1971–2003)',\n",
       "       '(1993–1998)', '(2006–2009)', '-2019', '(1993–2011)',\n",
       "       '(1995–1999)', '(1994–1998)', '(2006– )', '(1996–2002)',\n",
       "       '(1989–1993)', '(2003–2008)', '(2005–2011)', '-2009',\n",
       "       '(1989–2001)', '(1978–2002)', '(I) (2004–2009)', '(1996–2007)',\n",
       "       '(2002–2005)', '(1982–1992)', '(2003–2018)', '(2007–2008)',\n",
       "       '(2007–2011)', '(1984–1989)', '(1997–2001)', '-2016',\n",
       "       '(1988–1999)', '(1976–1981)', '(1980–1988)', '-2015',\n",
       "       '(1951–1957)', '(2006–2020)', '(1993–1997)', '(1992–2019)',\n",
       "       '(I) (2012–2013)', '(II) (2020– )', '(2019–2020)', '(1991–1996)',\n",
       "       '(2001–2007)', '(2009–2019)', '(1984–1987)', '(I) (2017– )',\n",
       "       '(1993–1996)', '(1984–1985)', '(2012–2015)', '-1998',\n",
       "       '(2008–2011)', '(1994–1995)', '(1966–1968)', '(1983–1986)',\n",
       "       '(2004–2018)', '(2000–2005)', '(1984–1996)', '(1962–1963)',\n",
       "       '(I) (2000–2006)', '(1997–1999)', '(1974–1983)', '(1985–1989)',\n",
       "       '(1992–2012)', '(2002–2006)', '(1991–1994)', '(1996–1999)',\n",
       "       '(1964–1972)', '(II) (2020–2021)', '(1988–1990)', '(1993–2009)',\n",
       "       '(1991–1992)', '(1995–2000)', '(1995–2005)', '(1974–1984)',\n",
       "       '(1983–1985)', '(1995–2004)', '(1982–1989)', '(1969–2011)',\n",
       "       '(1981–1989)', '-1982', '(2008–2015)', '(1998–2001)',\n",
       "       '(1985–1986)', '(2008–2021)', '(1993–2001)', '(I) (2019)',\n",
       "       '(2014–2021)', '(2004–2017)', '(1955–1962)', '(1996–2000)',\n",
       "       '(1964–1966)', '(2002–2011)', '(1994–1996)', '(1987–1988)',\n",
       "       '(1971–1979)', '(1992–1998)', '(2004– )', '(1978–1979)', '-2007',\n",
       "       '(2000–2003)', '(2001– )', '(1982–1984)', '(1965–1970)',\n",
       "       '(2020–2021)', '(1964–1967)', '(2008–2016)', '(1993–2015)',\n",
       "       '(1991–1998)', '(2002–2015)', '(1980–1984)', '-2006',\n",
       "       '(1967–1968)', '(1976–1984)', '(1960–1968)', '(1978–1991)',\n",
       "       '(2007–2020)', '(1969– )', '-2004', '(1994–2020)', '(2000–2001)',\n",
       "       '(1977–1982)', '(2005–2006)', '-2010', '(1993–2005)',\n",
       "       '(1995–1997)', '(1991–1995)', '(1990–1993)', '(I) (2016)',\n",
       "       '(1978–1983)', '(1979–1985)', '(2001–2015)', '(II) (2015–2018)',\n",
       "       '(1995–2002)', '(1994–1999)', '(1992–1999)', '(1987–1991)',\n",
       "       '(1990–1997)', '(2006–2015)', '(1986–1988)', '(1998–2002)',\n",
       "       '(1994–1997)', '(2005–2015)', '(2007– )', '(2002–2019)', '-1981',\n",
       "       '(1987–2000)', '(1999–2017)', '(1960–1962)', '(1984–1986)',\n",
       "       '(1988–1995)', '(1992–2014)', '(I) (1996–1999)', '(1978–1982)',\n",
       "       '(1995–2016)', '(2007–2016)', '(1986–1987)', '(1985–1991)',\n",
       "       '(II) (2000– )', '(1978–1986)', '(II) (2007– )', '(1974–1978)',\n",
       "       '(1968–1978)', '(1994–2000)', '(I) (2005– )', '(1961–1988)',\n",
       "       '(1966–1973)', '(1977–1987)', '(1999–2005)', '(1992–1996)',\n",
       "       '(2001–2014)', '(2003–2009)', '(1961–1966)', '-2021',\n",
       "       '(2000–2011)', '(1965–1971)', '(1986–1991)', '-2008',\n",
       "       '(1986–1993)', '(1988–2021)', '(2001–2002)', '(I) (2006– )',\n",
       "       '(1993– )', '(1977–1983)', '(1962–1971)', '(II) (2012– )',\n",
       "       '(1959–1973)', '(1975–1977)', '(1972–1977)', '(1993–1994)',\n",
       "       '(1977–1986)', '(1979–1981)', '(1975–1985)', '(1992–1993)',\n",
       "       '(II) (2010– )', '(1985– )', '(1968–2001)', '(1994–2001)', '-2013',\n",
       "       '(I) (2016–2017)', '(1982–1987)', '(1981–1987)', '(1998–2000)',\n",
       "       '(1963–1965)', '(1972–1985)', '(1987– )', '(1970–1977)',\n",
       "       '(2005–2018)', '(1974–1980)', '(1961–1962)', '(1994–2019)',\n",
       "       '(1977–1984)', '(1961–1969)', '(I) (2016–2018)', '(1957–1963)',\n",
       "       '(1973–1978)', '(1965–1968)', '(1989–1991)', '(1997–2016)',\n",
       "       '(1998–2012)', '(1986–1995)', '(1976–1983)', '(1992–2010)',\n",
       "       '(1981–1986)', '(1979–1984)', '(I) (2001–2012)', '(1994–2003)',\n",
       "       '(1976–1978)', '(I) (2020)', '(1992–2011)', '(1984– )', '(1965– )',\n",
       "       '(2002–2014)', '(1979–1988)', '(1968–1970)', '(1973–1975)',\n",
       "       '(1989–1997)', '(1974–1979)', '(1977–1981)', '(1957– )',\n",
       "       '(1983–1995)', '(2004–2020)', '(1980–2006)', '(1982–1990)',\n",
       "       '(1972–1981)', '(1968–1980)', '(1987–1993)', '(I) (2017)',\n",
       "       '(1990–2001)', '(2000–2009)', '(1999–2010)', '(1968–1977)',\n",
       "       '(1983–1988)', '(1973– )', '(2004–2014)', '(2000–2019)',\n",
       "       '(1974–1977)', '(1989–2020)', '(1984–1990)', '(I) (2018)',\n",
       "       '(1970–1975)', '(1988–1998)', '(1972–1975)', '-2001',\n",
       "       '(1996–2015)', '(1957–1966)', '(1985–1987)', '(1955–1975)'],\n",
       "      dtype=object)"
      ]
     },
     "execution_count": 25,
     "metadata": {},
     "output_type": "execute_result"
    }
   ],
   "source": [
    "RS_df2[\"Runtime_of_Series\"].unique()"
   ]
  },
  {
   "cell_type": "code",
   "execution_count": 26,
   "id": "3f2bcc0c",
   "metadata": {},
   "outputs": [
    {
     "data": {
      "text/plain": [
       "Runtime_of_Series\n",
       "(2019– )       79\n",
       "(2020– )       76\n",
       "(2018– )       63\n",
       "(2017– )       44\n",
       "(2016– )       38\n",
       "               ..\n",
       "(1982–1989)     1\n",
       "(1969–2011)     1\n",
       "-1982           1\n",
       "(2008–2015)     1\n",
       "(1955–1975)     1\n",
       "Name: count, Length: 514, dtype: int64"
      ]
     },
     "execution_count": 26,
     "metadata": {},
     "output_type": "execute_result"
    }
   ],
   "source": [
    "RS_df2[\"Runtime_of_Series\"].value_counts()"
   ]
  },
  {
   "cell_type": "markdown",
   "id": "02752fcf",
   "metadata": {},
   "source": [
    "- This is messed up data\n",
    "- Using regular expression we are cleaning it and converting in to a tuple\n",
    "- then tuple is converted to sting\n",
    "- then start and end years are put on seperate columns"
   ]
  },
  {
   "cell_type": "code",
   "execution_count": 27,
   "id": "ab9bd5f2",
   "metadata": {},
   "outputs": [],
   "source": [
    "import re"
   ]
  },
  {
   "cell_type": "code",
   "execution_count": 28,
   "id": "5f7b7976",
   "metadata": {},
   "outputs": [
    {
     "name": "stdout",
     "output_type": "stream",
     "text": [
      "[(2011, 2019), (2011, 2019), (2011, 2019), (2008, 2013), (2008, 2013), (2008, 2013), (2010, 2024), (2010, 2024), (2010, 2024), (1994, 2004), (1994, 2004), (2016, 2024), (2016, 2024), (2016, 2024), (2010, 2017), (2010, 2017), (2010, 2017), (2007, 2019), (2007, 2019), (2006, 2021), (2006, 2021), (2006, 2021), (2005, 2014), (2005, 2014), (2014, 2024), (2014, 2024), (2014, 2024), (2004, 2010), (2004, 2010), (2004, 2010), (2005, 2017), (2005, 2017), (2005, 2017), (2013, 2018), (2011, 2024), (2011, 2024), (2011, 2024), (2013, 2020), (2013, 2020), (2013, 2020), (2016, 2024), (2016, 2024), (2016, 2024), (2005, 2013), (2004, 2012), (2004, 2012), (2012, 2020), (2012, 2020), (2012, 2020), (2005, 2020), (2005, 2020), (2005, 2020), (2013, 2024), (2013, 2024), (2013, 2024), (1989, 2024), (1989, 2024), (2011, 2019), (2011, 2019), (2015, 2018), (2015, 2018), (2015, 2018), (2015, 2017), (2015, 2017), (2015, 2017), (2009, 2020), (2009, 2020), (2009, 2020), (2013, 2024), (2013, 2024), (2015, 2019), (2015, 2019), (2015, 2019), (1997, 2024), (1997, 2024), (2014, 2024), (2014, 2024), (2014, 2024), (2015, 2021), (2015, 2021), (2011, 2020), (2011, 2020), (2011, 2020), (2014, 2024), (2014, 2024), (2014, 2024), (1999, 2024), (1999, 2024), (1999, 2007), (1999, 2007), (2019, 2024), (2019, 2024), (2019, 2024), (2017, 2024), (2017, 2024), (2017, 2024), (2019, 2024), (2019, 2024), (2019, 2024), (2002, 2008), (2002, 2008), (2002, 2008), (2017, 2020), (2017, 2020), (2017, 2020), (2009, 2017), (2009, 2017), (2009, 2017), (2013, 2019), (2013, 2019), (2013, 2019), (2011, 2024), (2011, 2024), (2011, 2024), (2003, 2019), (2008, 2014), (2008, 2014), (2008, 2014), (2017, 2020), (2017, 2020), (2017, 2020), (1989, 1998), (2005, 2024), (2005, 2024), (2005, 2008), (2005, 2008), (2005, 2008), (2019, 2024), (2019, 2024), (2019, 2024), (2002, 2003), (2002, 2003), (2002, 2003), (2003, 2015), (2003, 2015), (2006, 2007), (2006, 2007), (2006, 2007), (2001, 2010), (2001, 2010), (2016, 2024), (2016, 2024), (2016, 2024), (2006, 2010), (2006, 2010), (2006, 2010), (2008, 2014), (2008, 2014), (2008, 2014), (2013, 2015), (2013, 2015), (2013, 2015), (2013, 2022), (2013, 2022), (2010, 2013), (2010, 2013), (2010, 2013), (2008, 2013), (2008, 2013), (2008, 2013), (2009, 2015), (2017, 2019), (2017, 2019), (2017, 2019), (2014, 2020), (2014, 2020), (2014, 2020), (2009, 2020), (1999, 2013), (1999, 2013), (1999, 2013), (2014, 2019), (2014, 2019), (2014, 2019), (2011, 2018), (2011, 2018), (2011, 2018), (2007, 2015), (2011, 2021), (2011, 2021), (2013, 2024), (2013, 2024), (2013, 2024), (2005, 2024), (2005, 2024), (2005, 2024), (2013, 2020), (2013, 2020), (2013, 2020), (1993, 2018), (1993, 2018), (1993, 2018), (2013, 2024), (2013, 2024), (2013, 2024), (2015, 2019), (2015, 2019), (2015, 2019), (2011, 2018), (2005, 2024), (2017, 2024), (2017, 2024), (2017, 2024), (2017, 2019), (2017, 2019), (2017, 2019), (1990, 1991), (1990, 1991), (1990, 1991), (2017, 2024), (2017, 2024), (2017, 2024), (2010, 2014), (2010, 2014), (2010, 2014), (2001, 2010), (2001, 2010), (2001, 2010), (2007, 2014), (2007, 2014), (2008, 2024), (2008, 2024), (2008, 2024), (2010, 2015), (2010, 2015), (2011, 2016), (2011, 2016), (2011, 2016), (2005, 2020), (2005, 2020), (2005, 2020), (2019, 2024), (2019, 2024), (2019, 2024), (2019, 2024), (2019, 2024), (2004, 2011), (2004, 2011), (2017, 2019), (2017, 2019), (2017, 2019), (2005, 2007), (2005, 2007), (2005, 2007), (2007, 2012), (2007, 2012), (1998, 2006), (1998, 2006), (2004, 2009), (2004, 2009), (2004, 2009), (2010, 2017), (2010, 2017), (2010, 2017), (2016, 2024), (2016, 2024), (2016, 2024), (2017, 2019), (2017, 2019), (2017, 2019), (2018, 2024), (2018, 2024), (2018, 2024), (2018, 2020), (2018, 2020), (2018, 2020), (2009, 2016), (2009, 2016), (2009, 2016), (2005, 2017), (2005, 2017), (2005, 2017), (2015, 2018), (2015, 2018), (2015, 2018), (2009, 2024), (2009, 2024), (2009, 2024), (2009, 2015), (2009, 2015), (2009, 2015), (2006, 2013), (1997, 2003), (1997, 2003), (1997, 2003), (1999, 2000), (1999, 2000), (2014, 2020), (2014, 2020), (2014, 2020), (2007, 2012), (2007, 2012), (2007, 2012), (2011, 2017), (2011, 2017), (2011, 2017), (2014, 2019), (2014, 2024), (2014, 2024), (2014, 2024), (2009, 2012), (2009, 2012), (2009, 2012), (1990, 1996), (2010, 2019), (2010, 2019), (2010, 2019), (2001, 2005), (2001, 2005), (2003, 2024), (2003, 2024), (2003, 2024), (2017, 2024), (2017, 2024), (2017, 2024), (2009, 2014), (2009, 2014), (2009, 2014), (2013, 2018), (2013, 2018), (2013, 2018), (2000, 2006), (2000, 2006), (2016, 2018), (2016, 2018), (2016, 2018), (2005, 2024), (2005, 2024), (2015, 2024), (2015, 2024), (2015, 2024), (2001, 2011), (2001, 2011), (2001, 2011), (2004, 2012), (2004, 2012), (2004, 2012), (2017, 2024), (2017, 2024), (2017, 2024), (2016, 2020), (2016, 2020), (2016, 2020), (2017, 2018), (2017, 2018), (2017, 2018), (1996, 2003), (1996, 2003), (1996, 2003), (2014, 2020), (2014, 2020), (2014, 2020), (2011, 2015), (2011, 2015), (2011, 2015), (2015, 2024), (2015, 2024), (2015, 2024), (2014, 2016), (2014, 2016), (2014, 2016), (2006, 2013), (2015, 2021), (2015, 2021), (2015, 2021), (2009, 2011), (2009, 2011), (2009, 2011), (2015, 2024), (2015, 2024), (2015, 2024), (2018, 2024), (2018, 2024), (2018, 2024), (2011, 2017), (2011, 2017), (2011, 2017), (2002, 2024), (2002, 2024), (2002, 2024), (2016, 2024), (2016, 2024), (2016, 2024), (1998, 2004), (1998, 2004), (1998, 2004), (2012, 2014), (2012, 2014), (2012, 2014), (2012, 2014), (2000, 2024), (1990, 1995), (1990, 1995), (2005, 2012), (2005, 2012), (2005, 2012), (1987, 1994), (1987, 1994), (1987, 1994), (2016, 2019), (2016, 2019), (2013, 2017), (2013, 2017), (2013, 2017), (2000, 2007), (2000, 2007), (2012, 2019), (2012, 2019), (2012, 2019), (2013, 2015), (2013, 2015), (2013, 2015), (2001, 2003), (2001, 2003), (2011, 2014), (2011, 2014), (2011, 2014), (2013, 2017), (2013, 2017), (2013, 2017), (2019, 2024), (2019, 2024), (2019, 2024), (2017, 2024), (2017, 2024), (2017, 2024), (1987, 1997), (2005, 2009), (2004, 2006), (2004, 2006), (2004, 2006), (2018, 2024), (2018, 2024), (2018, 2024), (2013, 2017), (2013, 2017), (2013, 2017), (2009, 2013), (2009, 2013), (2009, 2013), (2014, 2017), (2014, 2017), (2016, 2024), (2016, 2024), (2016, 2024), (2016, 2019), (2016, 2019), (2016, 2019), (2011, 2017), (2018, 2024), (2018, 2024), (2018, 2024), (1998, 1999), (1998, 1999), (1998, 1999), (1997, 2003), (1997, 2003), (1997, 2003), (2011, 2014), (2011, 2014), (2011, 2014), (2017, 2024), (2017, 2024), (2017, 2024), (1992, 1995), (1992, 1995), (1992, 1995), (2015, 2019), (2015, 2019), (2015, 2019), (2013, 2016), (2013, 2016), (2013, 2016), (2010, 2015), (2010, 2015), (2010, 2015), (2015, 2018), (2015, 2018), (2020, 2024), (2020, 2024), (2020, 2024), (2018, 2024), (2018, 2024), (2018, 2024), (2015, 2024), (2015, 2024), (2015, 2024), (2011, 2015), (2011, 2015), (2011, 2015), (2006, 2014), (2006, 2014), (2006, 2014), (2019, 2024), (2019, 2024), (1975, 1979), (2013, 2018), (2013, 2018), (2013, 2018), (2007, 2017), (2007, 2017), (2007, 2017), (2013, 2016), (2013, 2016), (2013, 2016), (1997, 2007), (1997, 2007), (1997, 2007), (2013, 2015), (2013, 2015), (2013, 2015), (1999, 2024), (1999, 2024), (1999, 2024), (2017, 2019), (2017, 2019), (2017, 2019), (1999, 2024), (1999, 2024), (1999, 2024), (2003, 2007), (2003, 2007), (2003, 2007), (2012, 2014), (2012, 2014), (2012, 2014), (2017, 2024), (2017, 2024), (2008, 2010), (2014, 2017), (2014, 2017), (2014, 2017), (2016, 2024), (2016, 2024), (2016, 2024), (2011, 2024), (2011, 2024), (2011, 2024), (2014, 2024), (2014, 2024), (2014, 2024), (2018, 2020), (2018, 2020), (2018, 2020), (2016, 2019), (2016, 2019), (2016, 2019), (2013, 2020), (2013, 2020), (2000, 2015), (2000, 2015), (2000, 2015), (2010, 2018), (2010, 2018), (2010, 2018), (1998, 2007), (1998, 2006), (1998, 2006), (1998, 2006), (2018, 2019), (2018, 2019), (2018, 2019), (2014, 2017), (2014, 2017), (2014, 2017), (2017, 2024), (2017, 2024), (2017, 2024), (2007, 2013), (2010, 2015), (2010, 2015), (2012, 2016), (2012, 2016), (2012, 2016), (1993, 2004), (2008, 2012), (2008, 2012), (2008, 2012), (1966, 1969), (1966, 1969), (1966, 1969), (2015, 2016), (2015, 2016), (2015, 2016), (2018, 2024), (2018, 2024), (2018, 2024), (2013, 2015), (2013, 2015), (2013, 2015), (2002, 2008), (2002, 2008), (2002, 2008), (2003, 2012), (2003, 2012), (2003, 2012), (1959, 1964), (1959, 1964), (1959, 1964), (2002, 2007), (2002, 2007), (2002, 2007), (1999, 2024), (1999, 2024), (1999, 2024), (2015, 2020), (2016, 2024), (2007, 2010), (2007, 2010), (2007, 2010), (1989, 1996), (1989, 1996), (1989, 1996), (2009, 2016), (2009, 2016), (2009, 2016), (2007, 2013), (2007, 2013), (2007, 2013), (2016, 2019), (2016, 2019), (2016, 2019), (1969, 1974), (2020, 2024), (2020, 2024), (2020, 2024), (2004, 2019), (2004, 2019), (2004, 2019), (2012, 2018), (2012, 2018), (2019, 2024), (2019, 2024), (2019, 2024), (2010, 2020), (2010, 2020), (2010, 2020), (2018, 2024), (2018, 2024), (2018, 2024), (2015, 2020), (2015, 2020), (2015, 2020), (2015, 2017), (2015, 2017), (2011, 2024), (2011, 2024), (2002, 2009), (2002, 2009), (2002, 2009), (2012, 2017), (2012, 2017), (2019, 2024), (1999, 2006), (2014, 2016), (2014, 2016), (2014, 2016), (2015, 2018), (2015, 2018), (2015, 2018), (1999, 2004), (1999, 2004), (1999, 2004), (1996, 2024), (2016, 2024), (2016, 2024), (2008, 2020), (2008, 2020), (2008, 2020), (2015, 2019), (2017, 2024), (2003, 2004), (2003, 2004), (2003, 2004), (2020, 2024), (2020, 2024), (2020, 2024), (2015, 2016), (2015, 2016), (2015, 2016), (2004, 2009), (2004, 2009), (2004, 2009), (2020, 2024), (2020, 2024), (2018, 2024), (2018, 2024), (2017, 2021), (2017, 2021), (2015, 2019), (2015, 2019), (2015, 2019), (1995, 2001), (1995, 2001), (1995, 2001), (2017, 2024), (2017, 2024), (2017, 2024), (2009, 2010), (2009, 2010), (2009, 2010), (2011, 2018), (2011, 2018), (2011, 2018), (2011, 2014), (2011, 2014), (2011, 2014), (2012, 2015), (2012, 2015), (2012, 2015), (2017, 2024), (2017, 2024), (2017, 2024), (2013, 2017), (2013, 2017), (2013, 2017), (2017, 2019), (2017, 2019), (2008, 2009), (2008, 2009), (2008, 2009), (2017, 2024), (2017, 2024), (2017, 2024), (2015, 2018), (2015, 2018), (2015, 2018), (2006, 2011), (2006, 2011), (2019, 2024), (2019, 2024), (2007, 2009), (2007, 2009), (2007, 2009), (2003, 2006), (2003, 2006), (2000, 2004), (2014, 2018), (2014, 2018), (2014, 2018), (2016, 2017), (2016, 2017), (2016, 2017), (2017, 2019), (2017, 2019), (2017, 2019), (2006, 2008), (2006, 2008), (2006, 2008), (2007, 2009), (2007, 2009), (2007, 2009), (2016, 2019), (2016, 2019), (2016, 2019), (2003, 2015), (2002, 2012), (2002, 2012), (2002, 2012), (1995, 2003), (1995, 2003), (1995, 2003), (2021, 2024), (2021, 2024), (1993, 1999), (1993, 1999), (1993, 1999), (2009, 2011), (2009, 2011), (2009, 2011), (2005, 2007), (2005, 2007), (2014, 2015), (2014, 2015), (2014, 2015), (1987, 1995), (1987, 1995), (1987, 1995), (2015, 2018), (2015, 2018), (2015, 2018), (2003, 2010), (2019, 2024), (2019, 2024), (2019, 2024), (2019, 2024), (2016, 2024), (2016, 2024), (2016, 2024), (2015, 2016), (2015, 2016), (2015, 2016), (2017, 2024), (2017, 2024), (2017, 2024), (2009, 2013), (2009, 2013), (2009, 2013), (2006, 2012), (2006, 2012), (2006, 2012), (1998, 2020), (1998, 2020), (2018, 2024), (2018, 2024), (2018, 2024), (1995, 1996), (1995, 1996), (1995, 1996), (1994, 2009), (1994, 2009), (1999, 2001), (1999, 2001), (1972, 1983), (1972, 1983), (1972, 1983), (2003, 2024), (2003, 2024), (2003, 2024), (2014, 2015), (2014, 2015), (2014, 2015), (2010, 2011), (2010, 2011), (2010, 2013), (2010, 2013), (2010, 2013), (2009, 2024), (2009, 2024), (2009, 2024), (1989, 2024), (1989, 2024), (2018, 2024), (2018, 2024), (2018, 2024), (2011, 2013), (2011, 2013), (2011, 2013), (2006, 2012), (2006, 2012), (2006, 2012), (1982, 1993), (1982, 1993), (1986, 1989), (1986, 1989), (1986, 1989), (2011, 2016), (2011, 2016), (2013, 2014), (2013, 2014), (2013, 2014), (2009, 2011), (2009, 2011), (2018, 2024), (2018, 2024), (2018, 2024), (1996, 2001), (1996, 2001), (1996, 2001), (2009, 2014), (2009, 2014), (2009, 2014), (2020, 2024), (2020, 2024), (2020, 2024), (2014, 2018), (2014, 2018), (2014, 2018), (2014, 2024), (2014, 2024), (2018, 2024), (2001, 2005), (2001, 2005), (2001, 2005), (2009, 2010), (2009, 2010), (2009, 2010), (1981, 2003), (2019, 2024), (2019, 2024), (2019, 2024), (2011, 2015), (2011, 2015), (2011, 2015), (2011, 2017), (2001, 2017), (2001, 2017), (2001, 2017), (2016, 2018), (2016, 2018), (2016, 2018), (2018, 2024), (2018, 2024), (2018, 2024), (1997, 2010), (1997, 2010), (1997, 2010), (2012, 2019), (2020, 2024), (2001, 2006), (2001, 2006), (2001, 2006), (2018, 2020), (2018, 2020), (2018, 2020), (2011, 2012), (2011, 2012), (2011, 2012), (2021, 2024), (2021, 2024), (2021, 2024), (2009, 2018), (1996, 2024), (1996, 2024), (1996, 2024), (2011, 2015), (2011, 2015), (2011, 2015), (2020, 2024), (2020, 2024), (2020, 2024), (2004, 2012), (2004, 2012), (2004, 2012), (2015, 2017), (2015, 2017), (2015, 2020), (2015, 2020), (2015, 2020), (2009, 2015), (2009, 2015), (2004, 2013), (2004, 2013), (2004, 2013), (2014, 2015), (2014, 2015), (2020, 2024), (2020, 2024), (2020, 2024), (1996, 2003), (1996, 2003), (1996, 2003), (2013, 2017), (2013, 2017), (1986, 2024), (1975, 2024), (1975, 2024), (2016, 2017), (2016, 2017), (2016, 2017), (2000, 2004), (2000, 2004), (2005, 2010), (2005, 2010), (2008, 2012), (2008, 2012), (2008, 2012), (2011, 2016), (2011, 2016), (2011, 2016), (2004, 2008), (2004, 2008), (2004, 2008), (2003, 2005), (2003, 2005), (2003, 2005), (2004, 2007), (2004, 2007), (2004, 2007), (2008, 2013), (2008, 2013), (2008, 2013), (2019, 2024), (2019, 2024), (2019, 2024), (1995, 2001), (1995, 2001), (1995, 2001), (2012, 2013), (2012, 2013), (2012, 2013), (2020, 2024), (2020, 2024), (2020, 2024), (2013, 2014), (2013, 2014), (2013, 2014), (2015, 2019), (2015, 2019), (2015, 2019), (2020, 2024), (2020, 2024), (2001, 2004), (2001, 2004), (2001, 2004), (1987, 2024), (2004, 2006), (2004, 2006), (2004, 2005), (2004, 2005), (2004, 2005), (2013, 2015), (2013, 2015), (2013, 2015), (2009, 2015), (2009, 2015), (2014, 2019), (2015, 2018), (2015, 2018), (2015, 2018), (2017, 2019), (2017, 2019), (2017, 2019), (2020, 2024), (2020, 2024), (2020, 2024), (2020, 2024), (2020, 2024), (2020, 2024), (2003, 2004), (2003, 2004), (2003, 2004), (1998, 2007), (1998, 2007), (2011, 2014), (2011, 2014), (2011, 2014), (1991, 1999), (1991, 1999), (2006, 2010), (2006, 2010), (2006, 2010), (2014, 2020), (2014, 2020), (1988, 2018), (1988, 2018), (2005, 2024), (2005, 2024), (2005, 2024), (2005, 2010), (2005, 2010), (2005, 2010), (2015, 2024), (2015, 2017), (2015, 2017), (2015, 2017), (1993, 2000), (1993, 2000), (1993, 2000), (2014, 2019), (2017, 2024), (2017, 2024), (2017, 2024), (2012, 2024), (2012, 2024), (2020, 2024), (2020, 2024), (2020, 2024), (2006, 2011), (2006, 2011), (2006, 2011), (2018, 2019), (2018, 2019), (2018, 2019), (2009, 2013), (2009, 2013), (2009, 2013), (2012, 2024), (2012, 2024), (2012, 2024), (1989, 2013), (1989, 2013), (1989, 2013), (1999, 2002), (1999, 2002), (1999, 2002), (2015, 2019), (2015, 2019), (2015, 2019), (2017, 2019), (2017, 2019), (1997, 2024), (1997, 2024), (1997, 2024), (2020, 2024), (2020, 2024), (2020, 2024), (2005, 2014), (2005, 2014), (2005, 2014), (1992, 1997), (1992, 1997), (1992, 1997), (1993, 1999), (1993, 1999), (1993, 1999), (2015, 2020), (2015, 2020), (2001, 2018), (2001, 2018), (1998, 2005), (1998, 2005), (1998, 2005), (2016, 2018), (2016, 2018), (2016, 2018), (2020, 2024), (2020, 2024), (2020, 2024), (2018, 2024), (2018, 2024), (2018, 2024), (2006, 2011), (2006, 2011), (2006, 2011), (2013, 2015), (2013, 2015), (2013, 2015), (2016, 2018), (2016, 2018), (2016, 2018), (2014, 2024), (2014, 2024), (2014, 2024), (2012, 2024), (2012, 2024), (2012, 2024), (1995, 1998), (2019, 2024), (2019, 2024), (2019, 2024), (1998, 2003), (1998, 2003), (2015, 2018), (2015, 2018), (1982, 1983), (1985, 1992), (1985, 1992), (1985, 1992), (2016, 2024), (2016, 2024), (2016, 2024), (2004, 2007), (2004, 2007), (2018, 2024), (2018, 2024), (2018, 2024), (2010, 2024), (2010, 2024), (2010, 2024), (1963, 1989), (1963, 1989), (1963, 1989), (2007, 2015), (2007, 2015), (2007, 2015), (2016, 2019), (2016, 2019), (2016, 2019), (2010, 2014), (2010, 2014), (2012, 2016), (2012, 2016), (2012, 2016), (2013, 2016), (2013, 2016), (2017, 2024), (2015, 2016), (2015, 2016), (2015, 2016), (1996, 2003), (1996, 2003), (1996, 2003), (2019, 2024), (2019, 2024), (2019, 2024), (2012, 2024), (2012, 2024), (2012, 2024), (2012, 2013), (1983, 1987), (1983, 1987), (1983, 1987), (2011, 2020), (2011, 2020), (1988, 1993), (1988, 1993), (1988, 1993), (2005, 2009), (2005, 2009), (2005, 2009), (2001, 2009), (2001, 2009), (2015, 2019), (2015, 2019), (2015, 2019), (2013, 2014), (2013, 2014), (2013, 2014), (2001, 2017), (2001, 2017), (2001, 2017), (2016, 2020), (2016, 2020), (2016, 2020), (2014, 2024), (2014, 2024), (2014, 2024), (2011, 2024), (2011, 2024), (2016, 2024), (1999, 2003), (1999, 2003), (1999, 2003), (2008, 2010), (2008, 2010), (2008, 2010), (1999, 2008), (1999, 2008), (1999, 2008), (2017, 2019), (2017, 2019), (2017, 2019), (2011, 2017), (2007, 2012), (2007, 2012), (2007, 2012), (1960, 1966), (1960, 1966), (1960, 1966), (1997, 2004), (1997, 2004), (1997, 2004), (2018, 2024), (2018, 2024), (2018, 2024), (2014, 2018), (2014, 2018), (2014, 2018), (2005, 2008), (2005, 2008), (1988, 2024), (1988, 2024), (1988, 2024), (2007, 2009), (2007, 2009), (2007, 2009), (2010, 2024), (2010, 2024), (2010, 2024), (2013, 2017), (2013, 2017), (2013, 2017), (2019, 2024), (2019, 2024), (2019, 2024), (1989, 1992), (1989, 1992), (1989, 1992), (2011, 2017), (2011, 2017), (2011, 2017), (2018, 2024), (2018, 2024), (2018, 2024), (2018, 2024), (2018, 2024), (2018, 2024), (2018, 2024), (2018, 2024), (1990, 2006), (1990, 2006), (1990, 2006), (1990, 2010), (1990, 2010), (1990, 2010), (2010, 2024), (2010, 2024), (2010, 2024), (1985, 1992), (1985, 1992), (2007, 2013), (2007, 2013), (1986, 1990), (1986, 1990), (1986, 1990), (2018, 2020), (2018, 2020), (2018, 2020), (2016, 2018), (2016, 2018), (2009, 2011), (2009, 2011), (2009, 2011), (2013, 2024), (1984, 1992), (1984, 1992), (1984, 1992), (2019, 2024), (2019, 2024), (2019, 2024), (1990, 2000), (1990, 2000), (2018, 2024), (2018, 2024), (2018, 2024), (1960, 1975), (1960, 1975), (2014, 2018), (2014, 2018), (2014, 2018), (2017, 2019), (2017, 2019), (2017, 2019), (2020, 2024), (2020, 2024), (2020, 2024), (2018, 2020), (2018, 2020), (2018, 2020), (2010, 2015), (2010, 2015), (2000, 2002), (2000, 2002), (2000, 2002), (1987, 1996), (1987, 1996), (1987, 1996), (1996, 2004), (1996, 2004), (1996, 2004), (1997, 2002), (1997, 2002), (1997, 2002), (2011, 2014), (2016, 2018), (2016, 2018), (2016, 2018), (2015, 2019), (1982, 1986), (1982, 1986), (1982, 1986), (1969, 1970), (1969, 1970), (1969, 1970), (2010, 2012), (2010, 2012), (2010, 2012), (2019, 2024), (2019, 2024), (2019, 2024), (2009, 2017), (2009, 2017), (2009, 2017), (2012, 2014), (2012, 2014), (2010, 2016), (2010, 2016), (2010, 2016), (2014, 2024), (2014, 2024), (2014, 2024), (2007, 2012), (2007, 2012), (2007, 2012), (2003, 2024), (2003, 2024), (2011, 2021), (2015, 2024), (2015, 2024), (2015, 2024), (1987, 1990), (1987, 1990), (1987, 1990), (2010, 2020), (2010, 2020), (2010, 2020), (2012, 2017), (2012, 2017), (2012, 2017), (2020, 2024), (2020, 2024), (2020, 2024), (1997, 1998), (1997, 1998), (1997, 1998), (2006, 2007), (2006, 2007), (2006, 2007), (2010, 2016), (2010, 2016), (2010, 2016), (2012, 2017), (2014, 2017), (2013, 2021), (2013, 2021), (2013, 2021), (1997, 2002), (1997, 2002), (2014, 2024), (2014, 2024), (2014, 2024), (2019, 2024), (2019, 2024), (2019, 2024), (2012, 2014), (2012, 2014), (1971, 2003), (1971, 2003), (1971, 2003), (2014, 2015), (2014, 2015), (2014, 2015), (2014, 2019), (2014, 2019), (2014, 2019), (1995, 1998), (1995, 1998), (1995, 1998), (2015, 2017), (2015, 2017), (2013, 2014), (2013, 2014), (2013, 2014), (1993, 1998), (1993, 1998), (1993, 1998), (2006, 2009), (2006, 2009), (2006, 2009), (2019, 2024), (2019, 2024), (2007, 2012), (2007, 2012), (2007, 2012), (2020, 2024), (2020, 2024), (2020, 2024), (2009, 2010), (2009, 2010), (1993, 2011), (1993, 2011), (1993, 2011), (2011, 2012), (2011, 2012), (2011, 2012), (1995, 1999), (1995, 1999), (1995, 1999), (2010, 2019), (2010, 2019), (2010, 2019), (2009, 2011), (2009, 2011), (2009, 2011), (1999, 2002), (1999, 2002), (1999, 2002), (2017, 2018), (2017, 2018), (2017, 2018), (1994, 1998), (1994, 1998), (1994, 1998), (2014, 2019), (2010, 2014), (2010, 2014), (2010, 2014), (2005, 2014), (2005, 2014), (2005, 2014), (2006, 2024), (2006, 2024), (2006, 2024), (2012, 2014), (2012, 2014), (2012, 2014), (2020, 2024), (2020, 2024), (1996, 2002), (2003, 2006), (2003, 2006), (2003, 2006), (2020, 2024), (2020, 2024), (2020, 2024), (1989, 1993), (1989, 1993), (1989, 1993), (2011, 2016), (2011, 2016), (2011, 2016), (2019, 2024), (2019, 2024), (2015, 2019), (2015, 2019), (2015, 2019), (2003, 2008), (2003, 2008), (2013, 2020), (2013, 2020), (2013, 2020), (2013, 2014), (2013, 2014), (2005, 2011), (2005, 2011), (2005, 2011), (2014, 2015), (2014, 2015), (2014, 2015), (2015, 2024), (2016, 2018), (2016, 2018), (2016, 2018), (2010, 2011), (2010, 2011), (2010, 2011), (2009, 2024), (2009, 2024), (2009, 2024), (2001, 2005), (2001, 2005), (2019, 2024), (2019, 2024), (2019, 2024), (1989, 2001), (1989, 2001), (1989, 2001), (2017, 2019), (2004, 2011), (2004, 2011), (2016, 2020), (2016, 2020), (1989, 1998), (1989, 1998), (1989, 1998), (2009, 2015), (2009, 2015), (2013, 2018), (2013, 2018), (2009, 2010), (2009, 2010), (2019, 2024), (2019, 2024), (2019, 2024), (2013, 2016), (2009, 2013), (2009, 2013), (2009, 2013), (2020, 2024), (1978, 2002), (1999, 2001), (1999, 2001), (1999, 2001), (2003, 2010), (2003, 2010), (2003, 2010), (2018, 2024), (2018, 2024), (2007, 2012), (2007, 2012), (2007, 2012), (2011, 2014), (2011, 2014), (2011, 2014), (2016, 2024), (2016, 2024), (2016, 2024), (2013, 2014), (2013, 2014), (2013, 2014), (2004, 2009), (2004, 2009), (1996, 2007), (1996, 2007), (1996, 2007), (1997, 2024), (1997, 2024), (1997, 2024), (2016, 2024), (2016, 2024), (2008, 2013), (2008, 2013), (2008, 2013), (2002, 2005), (2002, 2005), (2009, 2010), (2009, 2010), (2009, 2010), (2012, 2016), (2012, 2016), (2002, 2007), (2002, 2007), (2002, 2007), (1996, 2003), (1996, 2003), (1996, 2003), (1982, 1992), (1982, 1992), (1982, 1992), (2015, 2018), (2015, 2018), (2015, 2018), (2003, 2018), (2003, 2018), (2003, 2018), (2007, 2008), (2007, 2008), (2007, 2008), (2014, 2019), (2014, 2019), (2014, 2019), (2007, 2011), (2007, 2011), (2020, 2024), (2020, 2024), (2020, 2024), (1984, 1989), (1984, 1989), (1984, 1989), (2014, 2015), (2014, 2015), (2014, 2015), (2006, 2007), (2006, 2007), (1997, 2001), (1997, 2001), (1997, 2001), (2007, 2009), (2007, 2009), (2007, 2009), (2012, 2018), (2012, 2018), (2012, 2018), (2016, 2024), (2016, 2024), (2010, 2016), (2014, 2024), (2014, 2024), (2014, 2024), (2011, 2024), (2011, 2024), (2011, 2024), (1988, 1999), (1988, 1999), (2003, 2005), (2003, 2005), (2003, 2005), (2011, 2017), (2011, 2017), (2011, 2017), (2000, 2015), (2000, 2015), (2001, 2011), (2001, 2011), (2001, 2011), (2009, 2012), (2009, 2012), (2009, 2012), (2014, 2018), (2014, 2018), (2014, 2018), (2005, 2012), (2005, 2012), (2005, 2012), (1997, 2001), (1997, 2001), (1997, 2001), (2014, 2015), (2014, 2015), (2014, 2015), (2018, 2019), (2018, 2019), (2018, 2019), (2016, 2024), (2016, 2024), (2016, 2024), (2007, 2013), (2007, 2013), (2007, 2013), (2010, 2024), (2010, 2024), (2010, 2024), (1976, 1981), (1976, 1981), (1976, 1981), (1980, 1988), (1980, 1988), (1980, 1988), (2015, 2020), (2017, 2021), (2017, 2021), (2015, 2024), (2020, 2024), (2020, 2024), (2020, 2024), (2017, 2024), (2017, 2024), (2017, 2024), (2018, 2024), (2018, 2024), (2018, 2024), (2017, 2024), (2017, 2024), (2017, 2024), (2017, 2019), (2017, 2019), (2017, 2019), (2014, 2017), (2014, 2017), (2014, 2017), (2018, 2024), (2018, 2024), (2018, 2024), (1951, 1957), (1951, 1957), (2014, 2016), (2014, 2016), (2014, 2016), (2017, 2019), (2017, 2019), (2017, 2019), (2003, 2006), (2000, 2024), (2000, 2024), (2000, 2024), (2011, 2019), (2011, 2019), (2011, 2019), (2014, 2016), (2014, 2016), (2013, 2016), (2013, 2016), (2013, 2016), (2016, 2020), (2016, 2020), (2016, 2020), (2014, 2016), (2014, 2016), (2014, 2016), (2009, 2011), (2009, 2011), (2009, 2011), (2015, 2017), (2015, 2017), (2015, 2017), (2006, 2020), (2006, 2020), (2019, 2024), (2019, 2024), (2019, 2024), (2016, 2024), (2016, 2024), (1989, 1996), (1989, 1996), (1989, 1996), (2000, 2007), (2000, 2007), (2000, 2007), (2017, 2024), (2017, 2024), (2017, 2024), (2006, 2011), (2018, 2024), (2018, 2024), (2018, 2024), (1993, 1998), (1993, 1998), (1993, 1998), (2004, 2012), (2004, 2012), (2004, 2012), (2017, 2020), (2017, 2020), (2017, 2020), (2021, 2024), (2021, 2024), (2021, 2024), (2019, 2024), (2019, 2024), (2019, 2024), (1993, 1997), (1993, 1997), (1993, 1997), (2016, 2018), (2020, 2024), (2020, 2024), (2020, 2024), (2014, 2019), (2014, 2019), (1992, 2019), (1992, 2019), (2018, 2024), (2018, 2024), (2018, 2024), (2018, 2024), (2016, 2017), (2016, 2017), (2016, 2017), (2012, 2013), (2012, 2013), (2012, 2013), (2020, 2024), (2020, 2024), (2020, 2024), (2019, 2024), (2019, 2024), (2019, 2020), (2019, 2020), (2019, 2020), (2002, 2024), (2002, 2024), (2002, 2024), (2009, 2011), (2009, 2011), (1991, 1996), (1991, 1996), (1991, 1996), (1998, 2005), (1998, 2005), (1998, 2005), (2001, 2007), (2001, 2007), (2001, 2007), (2004, 2010), (2004, 2010), (2004, 2010), (2005, 2012), (2014, 2016), (2014, 2016), (2009, 2019), (2009, 2019), (2009, 2019), (2019, 2024), (2019, 2024), (2019, 2024), (2020, 2024), (2020, 2024), (2020, 2024), (2003, 2007), (2003, 2007), (2003, 2007), (1999, 2003), (1999, 2003), (1999, 2003), (1984, 1987), (1984, 1987), (1984, 1987), (2012, 2024), (2012, 2024), (2012, 2024), (2017, 2024), (2017, 2024), (2012, 2024), (2012, 2024), (2015, 2019), (2015, 2019), (2015, 2019), (2010, 2013), (2010, 2013), (2010, 2013), (2006, 2009), (2006, 2009), (2006, 2009), (1993, 1996), (1993, 1996), (1993, 1996), (2019, 2024), (2019, 2024), (2019, 2024), (2018, 2024), (2018, 2024), (2018, 2024), (2019, 2024), (2019, 2024), (2018, 2024), (2018, 2024), (2018, 2024), (2014, 2019), (2006, 2011), (2020, 2024), (2020, 2024), (2020, 2024), (2020, 2024), (2020, 2024), (2020, 2024), (2011, 2012), (2011, 2012), (2011, 2012), (2009, 2015), (2009, 2015), (2009, 2015), (1984, 1985), (1984, 1985), (1984, 1985), (2019, 2024), (2019, 2024), (2019, 2024), (2020, 2024), (2020, 2024), (2015, 2018), (2015, 2018), (2015, 2018), (2012, 2013), (2014, 2024), (2013, 2017), (2013, 2017), (2018, 2024), (2018, 2024), (2018, 2024), (2019, 2024), (2019, 2024), (2019, 2024), (2019, 2024), (2019, 2024), (2010, 2024), (2019, 2024), (2019, 2024), (2019, 2024), (2016, 2024), (2016, 2024), (2016, 2024), (2014, 2017), (2014, 2017), (2014, 2017), (2020, 2024), (2020, 2024), (2020, 2024), (2012, 2013), (2012, 2015), (2012, 2015), (2012, 2015), (2001, 2006), (2001, 2006), (2001, 2006), (2018, 2024), (2018, 2024), (2018, 2024), (2018, 2024), (2004, 2009), (2004, 2009), (2004, 2009), (2015, 2024), (2015, 2024), (2015, 2024), (2012, 2016), (2012, 2016), (2012, 2016), (1998, 2024), (1998, 2024), (1998, 2024), (1993, 1996), (1993, 1996), (2009, 2016), (2009, 2016), (2008, 2011), (2008, 2011), (2008, 2011), (2008, 2013), (2008, 2013), (2008, 2013), (2013, 2018), (2013, 2018), (2013, 2018), (1994, 1995), (1994, 1995), (1994, 1995), (2017, 2024), (2017, 2024), (2017, 2024), (2014, 2016), (2014, 2016), (2014, 2016), (2010, 2020), (2010, 2020), (2010, 2020), (1966, 1968), (1966, 1968), (1966, 1968), (2012, 2017), (2012, 2017), (2012, 2017), (2011, 2012), (2011, 2012), (2011, 2012), (2020, 2024), (2020, 2024), (2020, 2024), (2004, 2007), (2004, 2007), (2004, 2007), (2014, 2024), (2014, 2024), (2014, 2024), (2012, 2024), (2012, 2024), (2012, 2024), (1983, 1986), (1983, 1986), (1983, 1986), (2004, 2018), (2004, 2018), (2004, 2018), (2012, 2015), (2012, 2015), (2012, 2015), (2019, 2024), (2019, 2024), (2019, 2024), (2000, 2005), (2000, 2005), (1984, 1996), (1984, 1996), (1984, 1996), (2010, 2014), (2010, 2014), (2010, 2014), (2018, 2024), (1962, 1963), (1962, 1963), (1962, 1963), (1997, 2002), (2000, 2006), (2000, 2006), (2000, 2006), (2017, 2018), (2017, 2018), (2017, 2018), (2005, 2024), (2005, 2024), (1997, 1999), (1997, 1999), (1997, 1999), (2019, 2024), (2019, 2024), (1974, 1983), (1974, 1983), (1974, 1983), (2011, 2018), (2009, 2014), (2009, 2014), (1985, 1989), (1985, 1989), (1985, 1989), (2016, 2024), (2016, 2024), (2016, 2024), (2002, 2009), (2002, 2009), (2002, 2009), (1992, 2012), (2017, 2019), (2017, 2019), (1997, 2003), (2011, 2013), (2011, 2013), (2016, 2024), (2016, 2024), (2016, 2024), (2020, 2024), (2020, 2024), (2020, 2024), (2002, 2005), (2002, 2005), (2002, 2005), (2002, 2006), (2002, 2006), (2002, 2006), (2016, 2017), (2016, 2017), (2003, 2007), (2003, 2007), (2003, 2007), (2013, 2014), (2013, 2014), (2013, 2014), (2020, 2024), (2020, 2024), (2020, 2024), (2000, 2005), (2000, 2005), (2000, 2005), (2010, 2015), (2010, 2015), (2015, 2024), (2015, 2024), (1991, 1994), (1991, 1994), (1991, 1994), (2019, 2024), (2019, 2024), (2019, 2024), (1996, 1999), (1996, 1999), (1996, 1999), (2001, 2004), (2001, 2004), (2001, 2004), (1964, 1972), (1964, 1972), (1964, 1972), (2013, 2024), (2013, 2024), (2013, 2024), (2020, 2021), (2020, 2021), (2020, 2021), (2013, 2021), (2013, 2021), (1988, 1990), (1988, 1990), (1988, 1990), (2002, 2008), (2002, 2008), (2002, 2008), (2014, 2015), (2014, 2015), (2014, 2015), (2019, 2024), (2019, 2024), (2019, 2024), (2012, 2013), (2012, 2013), (2012, 2013), (2019, 2024), (2019, 2024), (2019, 2024), (2010, 2011), (2010, 2011), (2010, 2011), (2018, 2019), (2018, 2019), (2018, 2019), (2020, 2024), (2020, 2024), (2020, 2024), (2012, 2015), (2012, 2015), (2012, 2015), (2003, 2024), (2003, 2024), (2020, 2024), (2020, 2024), (2020, 2024), (2016, 2018), (2016, 2018), (2016, 2018), (2018, 2024), (2016, 2024), (2016, 2024), (2016, 2024), (1993, 2009), (1993, 2009), (1993, 2009), (2011, 2012), (2011, 2012), (2017, 2019), (2017, 2019), (2017, 2019), (2007, 2019), (2007, 2019), (2003, 2024), (2003, 2024), (2015, 2019), (2015, 2019), (2014, 2024), (2014, 2024), (2014, 2024), (2010, 2017), (2011, 2016), (2011, 2016), (2011, 2016), (2014, 2015), (2014, 2015), (2014, 2015), (2014, 2024), (2014, 2024), (2014, 2024), (2018, 2024), (2018, 2024), (2018, 2024), (1991, 1992), (1991, 1992), (1991, 1992), (2015, 2019), (2015, 2019), (2018, 2024), (1995, 2000), (1995, 2000), (1995, 2000), (1991, 1994), (1991, 1994), (1991, 1994), (2017, 2019), (2017, 2019), (2017, 2019), (2008, 2012), (2008, 2012), (2008, 2012), (1995, 2005), (1995, 2005), (1995, 2005), (2017, 2018), (2017, 2018), (2017, 2018), (2012, 2013), (2012, 2013), (2000, 2004), (2000, 2004), (1974, 1984), (1974, 1984), (1974, 1984), (2014, 2016), (2014, 2016), (2014, 2016), (1983, 1985), (1983, 1985), (1983, 1985), (2000, 2024), (2000, 2024), (2014, 2024), (2014, 2024), (2014, 2024), (2014, 2018), (2001, 2003), (2017, 2024), (2017, 2024), (2017, 2024), (2014, 2015), (2014, 2015), (2014, 2015), (2017, 2024), (2017, 2024), (2017, 2024), (1985, 1989), (1985, 1989), (1985, 1989), (2004, 2009), (1995, 2004), (1995, 2004), (2012, 2024), (2012, 2024), (2012, 2024), (2008, 2011), (2008, 2011), (2008, 2011), (2010, 2011), (2010, 2011), (2010, 2011), (2015, 2024), (2015, 2024), (2015, 2024), (2010, 2015), (2010, 2015), (1982, 1989), (1982, 1989), (1969, 2011), (1969, 2011), (1969, 2011), (1981, 1989), (1981, 1989), (1981, 1989), (2018, 2020), (2018, 2020), (2013, 2015), (2013, 2015), (2013, 2015), (2015, 2019), (1982, 2024), (1982, 2024), (2004, 2007), (2004, 2007), (2006, 2009), (2006, 2009), (2006, 2009), (2012, 2024), (2012, 2024), (2012, 2024), (2008, 2015), (2008, 2015), (2008, 2015), (2011, 2016), (2011, 2016), (2010, 2012), (2010, 2012), (2010, 2012), (2016, 2019), (2016, 2019), (2016, 2019), (2016, 2019), (2016, 2019), (2016, 2019), (2016, 2024), (2016, 2024), (2016, 2024), (1998, 2001), (1998, 2001), (2018, 2024), (2018, 2024), (2018, 2024), (2018, 2024), (1985, 1986), (1985, 1986), (1985, 1986), (2003, 2024), (2003, 2024), (2006, 2013), (2006, 2013), (2006, 2013), (2004, 2007), (2004, 2007), (2004, 2007), (2018, 2024), (2009, 2024), (2009, 2024), (2017, 2024), (2003, 2005), (2003, 2005), (2003, 2005), (2011, 2013), (2011, 2013), (2011, 2013), (2008, 2021), (2013, 2015), (2013, 2015), (2013, 2015), (2009, 2024), (2016, 2017), (2016, 2017), (2016, 2017), (1993, 2001), (1993, 2001), (1993, 2001), (2015, 2017), (2019, 2024), (2019, 2024), (2019, 2024), (2014, 2017), (2014, 2021), (2014, 2021), (2014, 2021), (2011, 2014), (2011, 2014), (2011, 2014), (2015, 2024), (2018, 2024), (2018, 2024), (1990, 1995), (1990, 1995), (2004, 2013), (2004, 2013), (2004, 2013), (2004, 2017), (2013, 2016), (2013, 2016), (2013, 2016), (2014, 2015), (2014, 2015), (2014, 2015), (2017, 2024), (2017, 2024), (2015, 2019), (2015, 2019), (2010, 2011), (2010, 2011), (2017, 2024), (2016, 2024), (2016, 2024), (2016, 2024), (2016, 2020), (1955, 1962), (1955, 1962), (1955, 1962), (2011, 2012), (2011, 2012), (2011, 2012), (1996, 2000), (1996, 2000), (1996, 2000), (2009, 2024), (1991, 1992), (1991, 1992), (1991, 1992), (2014, 2015), (2014, 2015), (2011, 2024), (2011, 2024), (2011, 2024), (2012, 2013), (2012, 2013), (2007, 2008), (2007, 2008), (2007, 2008), (2012, 2024), (2012, 2024), (2012, 2024), (2018, 2019), (2018, 2019), (2018, 2019), (2000, 2004), (2000, 2004), (2000, 2004), (1997, 1999), (1997, 1999), (1997, 1999), (2011, 2013), (1964, 1966), (1964, 1966), (1964, 1966), (2002, 2011), (2002, 2011), (2002, 2011), (2019, 2024), (2019, 2024), (2019, 2024), (1994, 1996), (1994, 1996), (1994, 1996), (2018, 2020), (2018, 2020), (2019, 2024), (2019, 2024), (2019, 2024), (2003, 2024), (2003, 2024), (2003, 2024), (2017, 2024), (2017, 2024), (2017, 2024), (2011, 2013), (2011, 2013), (2011, 2013), (2011, 2020), (2014, 2024), (2014, 2024), (2014, 2024), (2019, 2024), (2019, 2024), (2019, 2024), (2001, 2005), (2015, 2016), (2015, 2016), (2015, 2016), (2016, 2024), (2013, 2016), (2017, 2024), (2017, 2024), (1987, 1988), (1987, 1988), (1987, 1988), (1996, 2000), (1996, 2000), (2016, 2024), (1990, 1995), (2020, 2024), (2020, 2024), (2020, 2024), (2010, 2013), (2010, 2013), (1971, 1979), (1971, 1979), (1992, 1998), (1992, 1998), (1992, 1998), (2015, 2018), (2015, 2018), (2015, 2018), (2017, 2018), (2004, 2024), (2004, 2024), (2004, 2024), (2020, 2024), (2020, 2024), (2020, 2024), (2020, 2024), (2014, 2018), (2014, 2018), (2014, 2018), (1978, 1979), (1978, 1979), (1978, 1979), (2014, 2016), (2014, 2016), (2014, 2016), (1996, 2000), (1996, 2000), (1996, 2000), (2016, 2018), (2016, 2018), (2016, 2018), (2012, 2015), (2012, 2015), (2012, 2015), (2010, 2011), (2005, 2008), (2005, 2008), (2005, 2008), (2012, 2015), (2012, 2015), (1997, 2001), (1997, 2001), (1997, 2001), (2019, 2024), (2019, 2024), (2019, 2024), (2017, 2024), (2018, 2024), (2018, 2024), (2018, 2024), (2007, 2024), (2007, 2024), (2000, 2003), (2000, 2003), (1985, 1992), (1985, 1992), (2018, 2024), (2018, 2024), (2010, 2013), (2010, 2013), (2015, 2024), (1990, 1991), (1990, 1991), (1990, 1991), (1995, 1999), (1995, 1999), (2001, 2024), (2001, 2024), (2001, 2024), (2015, 2018), (1982, 1984), (2019, 2024), (2019, 2024), (1965, 1970), (1965, 1970), (1965, 1970), (2020, 2021), (2020, 2021), (2020, 2021), (2007, 2011), (2007, 2011), (2007, 2011), (2016, 2018), (2016, 2018), (2016, 2018), (2012, 2024), (1990, 2000), (1990, 2000), (1990, 2000), (2005, 2008), (2005, 2008), (2005, 2008), (2001, 2007), (2001, 2007), (2018, 2024), (2018, 2024), (2018, 2024), (2015, 2024), (2011, 2024), (2011, 2024), (2011, 2024), (2017, 2020), (2009, 2015), (2003, 2005), (2003, 2005), (2003, 2005), (2011, 2014), (2011, 2014), (2011, 2014), (2019, 2024), (2019, 2024), (2019, 2024), (2010, 2012), (2010, 2012), (2010, 2012), (2018, 2019), (2018, 2019), (2018, 2019), (2017, 2024), (2017, 2024), (1998, 2004), (1998, 2004), (1998, 2004), (2019, 2024), (2019, 2024), (2019, 2024), (2020, 2024), (2020, 2024), (1988, 1990), (1988, 1990), (1988, 1990), (2019, 2024), (2019, 2024), (2019, 2024), (2002, 2006), (2014, 2017), (2014, 2017), (2014, 2017), (1964, 1967), (1964, 1967), (2019, 2024), (2019, 2024), (2018, 2024), (2018, 2024), (2011, 2015), (2011, 2015), (2016, 2024), (2016, 2024), (2015, 2019), (2018, 2019), (2018, 2019), (2018, 2019), (2008, 2016), (2008, 2016), (2008, 2016), (2004, 2024), (2004, 2024), (2004, 2024), (1993, 2015), (1993, 2015), (1993, 2015), (2016, 2017), (2016, 2017), (2016, 2017), (1991, 1998), (1991, 1998), (1991, 1998), (2016, 2018), (2016, 2018), (2002, 2015), (2002, 2015), (2002, 2015), (1980, 1984), (2013, 2014), (2013, 2014), (2007, 2011), (2012, 2014), (2012, 2014), (2012, 2014), (2014, 2024), (2014, 2024), (2014, 2024), (2014, 2015), (2014, 2015), (2014, 2015), (2013, 2016), (2013, 2016), (2013, 2016), (2015, 2024), (2015, 2024), (2015, 2024), (2006, 2010), (2006, 2010), (2006, 2010), (1964, 1966), (1964, 1966), (1964, 1966), (2006, 2024), (2006, 2024), (2006, 2024), (2017, 2024), (2017, 2024), (2017, 2024), (2017, 2018), (2017, 2018), (2017, 2018), (2009, 2014), (2009, 2014), (2009, 2014), (2020, 2024), (2020, 2024), (1969, 1974), (1969, 1974), (2011, 2013), (2003, 2024), (2003, 2024), (2003, 2024), (1967, 1968), (1967, 1968), (1967, 1968), (2020, 2024), (2020, 2024), (2002, 2006), (1976, 1984), (2019, 2024), (2019, 2024), (2000, 2005), (2000, 2005), (2000, 2005), (2013, 2015), (2013, 2015), (2013, 2015), (1960, 1968), (1960, 1968), (2019, 2020), (2019, 2020), (2018, 2024), (2018, 2024), (2018, 2024), (2010, 2015), (1996, 2024), (1996, 2024), (1996, 2024), (2016, 2024), (2016, 2024), (2007, 2024), (2007, 2024), (2007, 2024), (2006, 2024), (2006, 2024), (2006, 2024), (2017, 2020), (2017, 2020), (2017, 2020), (2017, 2024), (2017, 2024), (2017, 2024), (1978, 1991), (1978, 1991), (2007, 2020), (2007, 2020), (2007, 2020), (2016, 2024), (2017, 2020), (1969, 2024), (1969, 2024), (1969, 2024), (2004, 2024), (2004, 2024), (2004, 2024), (2018, 2024), (2018, 2024), (2018, 2024), (2015, 2024), (2015, 2024), (2013, 2014), (2019, 2024), (2019, 2024), (2019, 2024), (2018, 2020), (2018, 2020), (2012, 2013), (2012, 2013), (2015, 2024), (2015, 2024), (2015, 2024), (2012, 2018), (2012, 2018), (2012, 2018), (1995, 1998), (1995, 1998), (1995, 1998), (1994, 2020), (2019, 2024), (2019, 2024), (2019, 2024), (2000, 2001), (2000, 2001), (2014, 2019), (2014, 2019), (2014, 2019), (1990, 1995), (1990, 1995), (1990, 1995), (1977, 1982), (1977, 1982), (1977, 1982), (2010, 2013), (2010, 2013), (2010, 2013), (2010, 2011), (2020, 2024), (2020, 2024), (2020, 2024), (2005, 2006), (2005, 2006), (2005, 2006), (2010, 2024), (2010, 2024), (2010, 2024), (1993, 2005), (1993, 2005), (1993, 2005), (1995, 1997), (1995, 1997), (1995, 1997), (2019, 2024), (2019, 2024), (1998, 2004), (2016, 2017), (2016, 2017), (2016, 2017), (1991, 1995), (2017, 2020), (2017, 2020), (2005, 2006), (2005, 2006), (2005, 2006), (2014, 2024), (2014, 2024), (2016, 2017), (2016, 2017), (2016, 2017), (2007, 2010), (2007, 2010), (2007, 2010), (2020, 2024), (2020, 2024), (2013, 2016), (2018, 2024), (2018, 2024), (2018, 2024), (2006, 2010), (1990, 1993), (1995, 2000), (1995, 2000), (1995, 2000), (2008, 2010), (2008, 2010), (2016, 2024), (2016, 2024), (2013, 2014), (1978, 1983), (1993, 1999), (1993, 1999), (1993, 1999), (1979, 1985), (1979, 1985), (2011, 2024), (2011, 2024), (2011, 2024), (2010, 2013), (2010, 2013), (2001, 2015), (2001, 2015), (1992, 1995), (1992, 1995), (1992, 1995), (1984, 1992), (1984, 1992), (1984, 1992), (2015, 2018), (2015, 2018), (2015, 2018), (2008, 2010), (2008, 2010), (2008, 2010), (2015, 2024), (2015, 2024), (2015, 2024), (2007, 2009), (2003, 2010), (2003, 2010), (1995, 2002), (1995, 2002), (1995, 2002), (2016, 2024), (2016, 2024), (2016, 2024), (2016, 2024), (2016, 2024), (2016, 2024), (2019, 2024), (2019, 2024), (2019, 2024), (2013, 2014), (2013, 2014), (2013, 2014), (2005, 2007), (2015, 2017), (2015, 2017), (2015, 2017), (2013, 2016), (2013, 2016), (2013, 2016), (2009, 2013), (2009, 2013), (2009, 2013), (1996, 2000), (1996, 2000), (1996, 2000), (1994, 1999), (1994, 1999), (1994, 1999), (2012, 2024), (2012, 2024), (2012, 2024), (2015, 2018), (2015, 2016), (2015, 2016), (2015, 2016), (2007, 2014), (2013, 2024), (2013, 2024), (2013, 2024), (2014, 2020), (2014, 2020), (2014, 2020), (2017, 2018), (2017, 2018), (2017, 2018), (2015, 2024), (2015, 2024), (2015, 2024), (2004, 2007), (2004, 2007), (2008, 2009), (2008, 2009), (2008, 2009), (2006, 2008), (2006, 2008), (2006, 2008), (2012, 2024), (2012, 2024), (2014, 2017), (1992, 1999), (1992, 1999), (2014, 2016), (2014, 2016), (2014, 2016), (2013, 2014), (2013, 2014), (2013, 2014), (2020, 2024), (2011, 2012), (2011, 2012), (2011, 2012), (2007, 2010), (2007, 2010), (2007, 2010), (1965, 1970), (1965, 1970), (1965, 1970), (2019, 2024), (2019, 2024), (2011, 2013), (2011, 2013), (1987, 1991), (1987, 1991), (1987, 1991), (2014, 2017), (2014, 2017), (1996, 2024), (1996, 2024), (1996, 2024), (2004, 2006), (2004, 2006), (2004, 2006), (2006, 2010), (2006, 2010), (2010, 2024), (2010, 2024), (2010, 2024), (2012, 2013), (2012, 2013), (2015, 2019), (2015, 2019), (2015, 2019), (2019, 2024), (2019, 2024), (2019, 2024), (2020, 2024), (2020, 2024), (2020, 2024), (1976, 1981), (1976, 1981), (1976, 1981), (2012, 2014), (2012, 2014), (2012, 2014), (2018, 2024), (2018, 2024), (2018, 2024), (1990, 1997), (1990, 1997), (2006, 2015), (2006, 2015), (2006, 2015), (2020, 2024), (2020, 2024), (2020, 2024), (2017, 2024), (2017, 2024), (2017, 2024), (2009, 2011), (2009, 2011), (2009, 2011), (2013, 2015), (2013, 2015), (2013, 2015), (2020, 2024), (2020, 2024), (2020, 2024), (2007, 2017), (2007, 2017), (2016, 2024), (2016, 2024), (2016, 2024), (1984, 1992), (2018, 2024), (1984, 1985), (1984, 1985), (1984, 1985), (1990, 1996), (1990, 1996), (1990, 1996), (1986, 1988), (1986, 1988), (1986, 1988), (2008, 2024), (2008, 2024), (2008, 2024), (2012, 2014), (2000, 2007), (2000, 2007), (2000, 2007), (2015, 2018), (2019, 2024), (2019, 2024), (2019, 2024), (2008, 2009), (2008, 2009), (2008, 2009), (2017, 2024), (2017, 2024), (2017, 2024), (2015, 2016), (2015, 2016), (2000, 2003), (2000, 2003), (2000, 2003), (2012, 2013), (2014, 2017), (2014, 2017), (2018, 2024), (2018, 2024), (2018, 2024), (2020, 2024), (2020, 2024), (2007, 2008), (2007, 2008), (2007, 2008), (1998, 2002), (1998, 2002), (1994, 1997), (1994, 1997), (1994, 1997), (2020, 2024), (2020, 2024), (2018, 2024), (2018, 2024), (2018, 2024), (2008, 2009), (2008, 2009), (2008, 2009), (2017, 2024), (2005, 2015), (2005, 2015), (2005, 2015), (2016, 2024), (2016, 2024), (2012, 2017), (2012, 2017), (2012, 2017), (2016, 2017), (2016, 2017), (2016, 2017), (2019, 2020), (2019, 2020), (2019, 2020), (2015, 2024), (2015, 2024), (2015, 2024), (2017, 2024), (2017, 2024), (2007, 2024), (2007, 2024), (2007, 2024), (2008, 2012), (2008, 2012), (2008, 2012), (2016, 2024), (2016, 2024), (2016, 2024), (2002, 2019), (2002, 2019), (2002, 2019), (2012, 2017), (2012, 2017), (2016, 2019), (2016, 2019), (2002, 2007), (2002, 2007), (2015, 2016), (2015, 2016), (2015, 2016), (1981, 2024), (1981, 2024), (1981, 2024), (2018, 2020), (2018, 2020), (2018, 2020), (2019, 2024), (2019, 2024), (2011, 2012), (2011, 2012), (2011, 2012), (2019, 2024), (2019, 2024), (2019, 2024), (2010, 2024), (2010, 2024), (2010, 2024), (1985, 1989), (1985, 1989), (1985, 1989), (1987, 2000), (1987, 2000), (1987, 2000), (2020, 2024), (2020, 2024), (2020, 2024), (1999, 2017), (1999, 2017), (1960, 1962), (1960, 1962), (1960, 1962), (2016, 2017), (2016, 2017), (2016, 2017), (2012, 2013), (2012, 2013), (2010, 2024), (2010, 2024), (2010, 2024), (2010, 2011), (2010, 2011), (2001, 2007), (2001, 2007), (2001, 2007), (1993, 1998), (1993, 1998), (1993, 1998), (1984, 1986), (1984, 1986), (1984, 1986), (2014, 2024), (2014, 2024), (2016, 2024), (2019, 2024), (2019, 2024), (2019, 2024), (2018, 2024), (2019, 2020), (2019, 2020), (2019, 2020), (2004, 2024), (2004, 2024), (1988, 1995), (1988, 1995), (1988, 1995), (1992, 2014), (1992, 2014), (1992, 2014), (1996, 1999), (1996, 1999), (1996, 1999), (2004, 2008), (2004, 2008), (2004, 2008), (2012, 2024), (2012, 2024), (2012, 2024), (2005, 2007), (2005, 2007), (2005, 2007), (1994, 1995), (1994, 1995), (1994, 1995), (2009, 2013), (2009, 2013), (2009, 2013), (2012, 2014), (2012, 2014), (2012, 2024), (2012, 2024), (2007, 2009), (2007, 2009), (2007, 2009), (2008, 2009), (2008, 2009), (2008, 2009), (2019, 2024), (2019, 2024), (2019, 2024), (2005, 2024), (2005, 2024), (2005, 2024), (2015, 2017), (2015, 2017), (2015, 2017), (1998, 2007), (1998, 2007), (1998, 2007), (2006, 2007), (2014, 2024), (2014, 2024), (2014, 2024), (2018, 2024), (1978, 1982), (1978, 1982), (1978, 1982), (1995, 2016), (1995, 2016), (1995, 2016), (2007, 2016), (2007, 2016), (2017, 2024), (2020, 2024), (2020, 2024), (2020, 2024), (2008, 2009), (2008, 2009), (2008, 2009), (2020, 2024), (2017, 2024), (2017, 2024), (2017, 2024), (2019, 2024), (2019, 2024), (2019, 2024), (1986, 1987), (2014, 2017), (2014, 2017), (2014, 2017), (2016, 2018), (2016, 2018), (2016, 2018), (2007, 2013), (2007, 2013), (2005, 2006), (2005, 2006), (2005, 2006), (1985, 1991), (1985, 1991), (1985, 1991), (2016, 2017), (2016, 2017), (2016, 2017), (2000, 2024), (2000, 2024), (1978, 1986), (1978, 1986), (1978, 1986), (1997, 2001), (2009, 2024), (2009, 2024), (2007, 2024), (2007, 2024), (2011, 2024), (2011, 2024), (2011, 2024), (2009, 2024), (2009, 2024), (2009, 2024), (1990, 2006), (2013, 2014), (2013, 2014), (2013, 2014), (2020, 2024), (2020, 2024), (2020, 2024), (1998, 1999), (1998, 1999), (1998, 1999), (2020, 2024), (2020, 2024), (2020, 2024), (1974, 1978), (1974, 1978), (1974, 1978), (2019, 2024), (2019, 2024), (2019, 2024), (2020, 2024), (2020, 2024), (2020, 2024), (2015, 2017), (2015, 2017), (2015, 2017), (2018, 2024), (2018, 2024), (2017, 2018), (2017, 2018), (2017, 2018), (1968, 1978), (1968, 1978), (2012, 2014), (2012, 2014), (2012, 2014), (2019, 2024), (2019, 2024), (2019, 2024), (2011, 2012), (2011, 2016), (2011, 2016), (2011, 2016), (2019, 2024), (2007, 2008), (2007, 2008), (2007, 2008), (2019, 2024), (2019, 2024), (2019, 2024), (2014, 2015), (2014, 2015), (2011, 2013), (2011, 2013), (2011, 2013), (2017, 2024), (2017, 2024), (2017, 2024), (1994, 2000), (1994, 2000), (2017, 2019), (2009, 2012), (2009, 2012), (2020, 2024), (2020, 2024), (2012, 2024), (2012, 2024), (2012, 2024), (2008, 2009), (2008, 2009), (2008, 2009), (2010, 2012), (2010, 2012), (2010, 2012), (2016, 2024), (2016, 2024), (2016, 2024), (2013, 2014), (2013, 2014), (2013, 2014), (2011, 2024), (2011, 2024), (2011, 2024), (2005, 2024), (2005, 2024), (2005, 2024), (1999, 2004), (1999, 2004), (1999, 2004), (1991, 1995), (1991, 1995), (1991, 1995), (1961, 1988), (1961, 1988), (1961, 1988), (2015, 2017), (2015, 2017), (2016, 2024), (2016, 2024), (2016, 2024), (1986, 1989), (1986, 1989), (1986, 1989), (2013, 2019), (2013, 2019), (2016, 2018), (2016, 2018), (2016, 2018), (2017, 2018), (2017, 2018), (2002, 2024), (2002, 2024), (2002, 2024), (2015, 2024), (2015, 2024), (2015, 2024), (1966, 1973), (1966, 1973), (1966, 1973), (2011, 2012), (1997, 2001), (1997, 2001), (1997, 2001), (2008, 2010), (2008, 2010), (2008, 2010), (1977, 1987), (1977, 1987), (1977, 1987), (2009, 2011), (2009, 2011), (2009, 2011), (2019, 2024), (2019, 2024), (2019, 2024), (2011, 2024), (2011, 2024), (2011, 2024), (2016, 2017), (2016, 2017), (2016, 2017), (1995, 1999), (1995, 1999), (1995, 1999), (2006, 2024), (2006, 2024), (2006, 2024), (2010, 2013), (2010, 2013), (2010, 2013), (2008, 2009), (2008, 2009), (2008, 2009), (2018, 2024), (2018, 2024), (2018, 2024), (2009, 2024), (2009, 2024), (2009, 2024), (2011, 2013), (1999, 2005), (1999, 2005), (1999, 2005), (2018, 2019), (2018, 2019), (2018, 2019), (1987, 1995), (2007, 2024), (2007, 2024), (2007, 2024), (2013, 2014), (2013, 2014), (2013, 2014), (2008, 2009), (2008, 2009), (2008, 2009), (2007, 2024), (2007, 2024), (2019, 2024), (2019, 2024), (2019, 2024), (2018, 2024), (2018, 2024), (2018, 2024), (2017, 2018), (2019, 2024), (2019, 2024), (2019, 2024), (2003, 2024), (2003, 2024), (2003, 2024), (2020, 2024), (2020, 2024), (2020, 2024), (1992, 1996), (1992, 1996), (2020, 2024), (2010, 2024), (2019, 2020), (2019, 2020), (1972, 1983), (1972, 1983), (1972, 1983), (1994, 1997), (1994, 1997), (1994, 1997), (2001, 2014), (2001, 2014), (2001, 2014), (2014, 2024), (2014, 2024), (2014, 2024), (2019, 2024), (2019, 2024), (2003, 2009), (2003, 2009), (2003, 2009), (2014, 2016), (2014, 2016), (2014, 2016), (1961, 1966), (1961, 1966), (2003, 2005), (2003, 2005), (2003, 2005), (2021, 2024), (2021, 2024), (2021, 2024), (2000, 2011), (2015, 2024), (2015, 2024), (2015, 2024), (2020, 2024), (2020, 2024), (2020, 2024), (2020, 2024), (2020, 2024), (2020, 2024), (2016, 2020), (2016, 2018), (2019, 2024), (2019, 2024), (2019, 2024), (2019, 2024), (2019, 2024), (2019, 2024), (2016, 2024), (2020, 2024), (2020, 2024), (2020, 2024), (2017, 2024), (2017, 2024), (2016, 2024), (1965, 1971), (1965, 1971), (1995, 1998), (1986, 1991), (1986, 1991), (1986, 1991), (2012, 2024), (2012, 2024), (2008, 2024), (2008, 2024), (2008, 2024), (1986, 1993), (1986, 1993), (2011, 2014), (2011, 2014), (2011, 2014), (2009, 2024), (2009, 2024), (2020, 2024), (2020, 2024), (2020, 2024), (2005, 2007), (2005, 2007), (2009, 2010), (2009, 2010), (2002, 2007), (2002, 2007), (2002, 2007), (2007, 2010), (2019, 2024), (2019, 2024), (2020, 2024), (2017, 2024), (2017, 2024), (2017, 2024), (2003, 2010), (2003, 2010), (2003, 2010), (1988, 2021), (2020, 2024), (2020, 2024), (2020, 2024), (2019, 2024), (2019, 2024), (2019, 2024), (2011, 2013), (2011, 2013), (2011, 2013), (2019, 2024), (2019, 2024), (2013, 2016), (2013, 2016), (2013, 2016), (2018, 2024), (2018, 2024), (2018, 2024), (2012, 2017), (2012, 2017), (2012, 2017), (1999, 2004), (1999, 2004), (1999, 2004), (2003, 2006), (2003, 2006), (2003, 2006), (1988, 2018), (2004, 2008), (2004, 2008), (2004, 2008), (2018, 2020), (2013, 2014), (2013, 2014), (2018, 2024), (2018, 2024), (2015, 2017), (2018, 2024), (2018, 2024), (2018, 2024), (2020, 2024), (2020, 2024), (2020, 2024), (2001, 2002), (2001, 2002), (2001, 2002), (2017, 2018), (2017, 2018), (2017, 2018), (2020, 2024), (2020, 2024), (2020, 2024), (2008, 2010), (2008, 2010), (2006, 2024), (2017, 2024), (2017, 2024), (2014, 2016), (2015, 2016), (2015, 2016), (2015, 2016), (2015, 2020), (2015, 2020), (2019, 2024), (2019, 2024), (2019, 2024), (1994, 1997), (1994, 1997), (1994, 1997), (2019, 2024), (2019, 2024), (2019, 2024), (2007, 2014), (2007, 2014), (2007, 2014), (2005, 2012), (2011, 2024), (2011, 2024), (2016, 2018), (2006, 2024), (2006, 2024), (2006, 2024), (2003, 2006), (2003, 2006), (2017, 2024), (2017, 2024), (2017, 2024), (2018, 2024), (2010, 2024), (2010, 2024), (2010, 2024), (1993, 2024), (1993, 2024), (2015, 2024), (2015, 2024), (2015, 2024), (2006, 2010), (2006, 2010), (1977, 1983), (1977, 1983), (1977, 1983), (2020, 2024), (2020, 2024), (2012, 2024), (2012, 2024), (2016, 2018), (2016, 2018), (2016, 2018), (2013, 2024), (2013, 2024), (2013, 2024), (2015, 2017), (2015, 2017), (2008, 2024), (2008, 2024), (2008, 2024), (2009, 2024), (2009, 2024), (2016, 2017), (2016, 2017), (2016, 2017), (2018, 2024), (2018, 2024), (2018, 2024), (2019, 2024), (1966, 1973), (1966, 1973), (1966, 1973), (2015, 2024), (2014, 2015), (2014, 2015), (2014, 2015), (1962, 1971), (1962, 1971), (2014, 2024), (2014, 2024), (2014, 2024), (1991, 1994), (1991, 1994), (2016, 2019), (2016, 2019), (2016, 2019), (2002, 2006), (2002, 2006), (2002, 2006), (2013, 2016), (2012, 2014), (2012, 2014), (2012, 2014), (1978, 1982), (2020, 2024), (2020, 2024), (2020, 2024), (2011, 2012), (2011, 2012), (2013, 2014), (2012, 2024), (1959, 1973), (1975, 1977), (1975, 1977), (1975, 1977), (2020, 2024), (2020, 2024), (2007, 2008), (2007, 2008), (2007, 2008), (2015, 2024), (2015, 2024), (2019, 2024), (2019, 2024), (2012, 2014), (2012, 2014), (2012, 2014), (2007, 2024), (2007, 2024), (2007, 2024), (2018, 2024), (2018, 2024), (1989, 1993), (1989, 1993), (1989, 1993), (2017, 2024), (2017, 2024), (2017, 2024), (2020, 2024), (2020, 2024), (2020, 2024), (2019, 2024), (2019, 2024), (2009, 2010), (2009, 2010), (2009, 2010), (2007, 2008), (2007, 2008), (2007, 2008), (2011, 2024), (2011, 2024), (2011, 2024), (1972, 1977), (1997, 2004), (1997, 2004), (1997, 2004), (1975, 1979), (1975, 1979), (1975, 1979), (1993, 1994), (1993, 1994), (1993, 1994), (2012, 2013), (2012, 2013), (2012, 2013), (2015, 2016), (2015, 2016), (2015, 2016), (2010, 2024), (2010, 2024), (2010, 2024), (2017, 2024), (2017, 2024), (2017, 2024), (2016, 2024), (2006, 2007), (2006, 2007), (2006, 2007), (2021, 2024), (2021, 2024), (1977, 1986), (2004, 2017), (2004, 2017), (1979, 1981), (1979, 1981), (1979, 1981), (1975, 1985), (1992, 1993), (1992, 1993), (1992, 1993), (2020, 2024), (2020, 2024), (2020, 2024), (2003, 2015), (2003, 2015), (2014, 2015), (2014, 2015), (2014, 2015), (2020, 2024), (2020, 2024), (2020, 2024), (2017, 2024), (2017, 2024), (2017, 2024), (2005, 2024), (2005, 2024), (2005, 2024), (2009, 2014), (2009, 2014), (2009, 2014), (2012, 2013), (2012, 2013), (2012, 2013), (2018, 2024), (1992, 1997), (1992, 1997), (1992, 1997), (2008, 2011), (2008, 2011), (2008, 2011), (2010, 2011), (1997, 1999), (1997, 1999), (1997, 1999), (2010, 2024), (2010, 2024), (2015, 2017), (2016, 2018), (2016, 2018), (2016, 2018), (2015, 2016), (2015, 2016), (2015, 2016), (2013, 2018), (2013, 2018), (2013, 2018), (2002, 2003), (2002, 2003), (2002, 2003), (2019, 2020), (2019, 2020), (2019, 2020), (1985, 2024), (1985, 2024), (1985, 2024), (2004, 2012), (1968, 2001), (1968, 2001), (1968, 2001), (2011, 2024), (1994, 2001), (1994, 2001), (1994, 2001), (2016, 2019), (2016, 2019), (2016, 2020), (2016, 2020), (2016, 2020), (2021, 2024), (2021, 2024), (2012, 2020), (2012, 2020), (2005, 2024), (2005, 2024), (2013, 2024), (2013, 2024), (2013, 2024), (2016, 2017), (2016, 2017), (2013, 2020), (2013, 2020), (2013, 2020), (2006, 2009), (2006, 2009), (2006, 2009), (1995, 1996), (1995, 1996), (1995, 1996), (1992, 1998), (2015, 2024), (2015, 2024), (2015, 2024), (1982, 1987), (1982, 1987), (1982, 1987), (2017, 2024), (2017, 2024), (2020, 2024), (2020, 2024), (2020, 2024), (2007, 2016), (2007, 2016), (2007, 2016), (1981, 1987), (1981, 1987), (1981, 1987), (2002, 2006), (2002, 2006), (2020, 2024), (2020, 2024), (2020, 2024), (2013, 2024), (2013, 2024), (2017, 2018), (2017, 2018), (2008, 2024), (2008, 2024), (2008, 2024), (2018, 2020), (2013, 2015), (2013, 2015), (2013, 2015), (2020, 2024), (2020, 2024), (2016, 2024), (2016, 2024), (2015, 2018), (2015, 2018), (1998, 2000), (1998, 2000), (1998, 2000), (1996, 1999), (1996, 1999), (1996, 1999), (2020, 2024), (2020, 2024), (2020, 2024), (2015, 2024), (2015, 2024), (2000, 2005), (2000, 2005), (2000, 2005), (1975, 1977), (1975, 1977), (1975, 1977), (1996, 2002), (1996, 2002), (1996, 2002), (1992, 2014), (2011, 2013), (2011, 2013), (2008, 2014), (2008, 2014), (2008, 2014), (2011, 2012), (2011, 2012), (2002, 2009), (2002, 2009), (2002, 2009), (2011, 2012), (2011, 2012), (1963, 1965), (1963, 1965), (1963, 1965), (1995, 1997), (1995, 1997), (1995, 1997), (2012, 2024), (2019, 2024), (2019, 2024), (2019, 2024), (2017, 2020), (2017, 2020), (2017, 2020), (2012, 2017), (2007, 2010), (2017, 2020), (2017, 2020), (2017, 2020), (1999, 2002), (1999, 2002), (1972, 1985), (2003, 2004), (2003, 2004), (2003, 2004), (2016, 2019), (2015, 2018), (2015, 2018), (2015, 2018), (2018, 2024), (2018, 2024), (2015, 2018), (2015, 2018), (2015, 2018), (2004, 2024), (2004, 2024), (2004, 2024), (1975, 1979), (1975, 1979), (1975, 1979), (2012, 2013), (2012, 2013), (2012, 2013), (2019, 2024), (2019, 2024), (2019, 2024), (1983, 1987), (1983, 1987), (1983, 1987), (2013, 2014), (2013, 2014), (2020, 2024), (2020, 2024), (2020, 2024), (2020, 2024), (1992, 1993), (1992, 1993), (1992, 1993), (2007, 2024), (2007, 2024), (2017, 2024), (2017, 2024), (2017, 2024), (2013, 2018), (2013, 2018), (2013, 2018), (2011, 2013), (2011, 2013), (2011, 2013), (2008, 2009), (2008, 2009), (1987, 2024), (1987, 2024), (2015, 2024), (2015, 2024), (2015, 2024), (2013, 2024), (2013, 2024), (2013, 2024), (2015, 2017), (2015, 2017), (2008, 2016), (2004, 2024), (2004, 2024), (2004, 2024), (2012, 2014), (2012, 2014), (2001, 2004), (2001, 2004), (2016, 2017), (1994, 1998), (1994, 1998), (1994, 1998), (2018, 2024), (2018, 2024), (1970, 1977), (2018, 2020), (2018, 2020), (2018, 2020), (2010, 2024), (2010, 2024), (2019, 2020), (2019, 2020), (2019, 2020), (1997, 2001), (1997, 2001), (1997, 2001), (2019, 2024), (2019, 2024), (2019, 2024), (2013, 2019), (2013, 2019), (2013, 2019), (2005, 2018), (2005, 2018), (2005, 2018), (2008, 2010), (2008, 2010), (2008, 2010), (2015, 2016), (2012, 2014), (2012, 2014), (1974, 1980), (1974, 1980), (1974, 1980), (2001, 2006), (2001, 2006), (2001, 2006), (2010, 2024), (2017, 2019), (2010, 2024), (2010, 2024), (1990, 1995), (1990, 1995), (1990, 1995), (2015, 2024), (2015, 2024), (2015, 2024), (2017, 2018), (2017, 2018), (2017, 2018), (2016, 2024), (2016, 2024), (2020, 2024), (2020, 2024), (2020, 2024), (2004, 2006), (2004, 2006), (2004, 2006), (2012, 2018), (2012, 2018), (2012, 2018), (2008, 2024), (2008, 2024), (2015, 2017), (2015, 2017), (2015, 2017), (2018, 2024), (2010, 2024), (1961, 1962), (1961, 1962), (1961, 1962), (1994, 2019), (1994, 2019), (1994, 2019), (2020, 2024), (2020, 2024), (2020, 2024), (1977, 1984), (1977, 1984), (1977, 1984), (1961, 1969), (1961, 1969), (1961, 1969), (2006, 2008), (2006, 2008), (2016, 2018), (2016, 2018), (2016, 2018), (2006, 2008), (2006, 2008), (2006, 2008), (2014, 2015), (2015, 2024), (2015, 2024), (2015, 2024), (2016, 2017), (2016, 2017), (2016, 2017), (1957, 1963), (1957, 1963), (2019, 2024), (2019, 2024), (2019, 2024), (2007, 2013), (2007, 2013), (2007, 2013), (2005, 2014), (2005, 2014), (2005, 2014), (2008, 2024), (2008, 2024), (2008, 2024), (1999, 2000), (1999, 2000), (1999, 2000), (2018, 2024), (1993, 1998), (1993, 1998), (1993, 1998), (2013, 2017), (2013, 2017), (2013, 2017), (2013, 2014), (2013, 2014), (2013, 2014), (2019, 2024), (2019, 2024), (2019, 2024), (2018, 2020), (2018, 2020), (2016, 2018), (2016, 2018), (2016, 2018), (2011, 2012), (2014, 2016), (2014, 2016), (2014, 2016), (2011, 2016), (2011, 2016), (2011, 2016), (2013, 2024), (2020, 2024), (2020, 2024), (2020, 2024), (2014, 2024), (2014, 2024), (2014, 2024), (2018, 2024), (2018, 2024), (2010, 2024), (2017, 2024), (2017, 2024), (2013, 2014), (2008, 2010), (2008, 2010), (2008, 2010), (2007, 2008), (2017, 2018), (2017, 2018), (2018, 2019), (2018, 2019), (1973, 1978), (1973, 1978), (1973, 1978), (1965, 1968), (1965, 1968), (1965, 1968), (1989, 1991), (1989, 1991), (1989, 1991), (2013, 2019), (2013, 2019), (2013, 2019), (2020, 2024), (2020, 2024), (2020, 2024), (1997, 2016), (1997, 2016), (1997, 2016), (2003, 2006), (2003, 2006), (2003, 2006), (2007, 2008), (2007, 2008), (2016, 2019), (2016, 2019), (2018, 2024), (2018, 2024), (2018, 2024), (2000, 2004), (2000, 2004), (1997, 2024), (2019, 2024), (2019, 2024), (2000, 2006), (2003, 2005), (2003, 2005), (2003, 2005), (1998, 2012), (2018, 2020), (2018, 2020), (2018, 2020), (2018, 2019), (2008, 2011), (2008, 2011), (1986, 1995), (1986, 1995), (1986, 1995), (2001, 2024), (2017, 2024), (2017, 2024), (2017, 2024), (1981, 1989), (1981, 1989), (2020, 2024), (2020, 2024), (2020, 2024), (2012, 2024), (2007, 2014), (2007, 2014), (2007, 2014), (2018, 2024), (2018, 2024), (2020, 2024), (2020, 2024), (2020, 2024), (2007, 2008), (2007, 2008), (2007, 2008), (1996, 2001), (1996, 2001), (1996, 2001), (1990, 1991), (1990, 1991), (1990, 1991), (1976, 1983), (1976, 1983), (1993, 2001), (1993, 2001), (1993, 2001), (2018, 2024), (2018, 2024), (2019, 2024), (2018, 2019), (2018, 2019), (2018, 2019), (2018, 2020), (2018, 2020), (2018, 2020), (2008, 2024), (2012, 2013), (2012, 2013), (2012, 2013), (2018, 2024), (2018, 2024), (2018, 2024), (2016, 2024), (2016, 2024), (2016, 2024), (2017, 2021), (2017, 2021), (2017, 2021), (2019, 2024), (2019, 2024), (2019, 2024), (1992, 2010), (1992, 2010), (1992, 2010), (1981, 1986), (1981, 1986), (1981, 1986), (2018, 2020), (2018, 2020), (2018, 2020), (2021, 2024), (2021, 2024), (2005, 2024), (2005, 2024), (1979, 1984), (1979, 1984), (1979, 1984), (2010, 2018), (2010, 2018), (2010, 2024), (2010, 2024), (2010, 2024), (2015, 2017), (2015, 2017), (2011, 2012), (2011, 2012), (2011, 2012), (2016, 2018), (2016, 2018), (2016, 2018), (2009, 2010), (2009, 2010), (2004, 2024), (2014, 2024), (2014, 2024), (2020, 2024), (2020, 2024), (2020, 2024), (2016, 2019), (2016, 2019), (2005, 2012), (2005, 2012), (2002, 2024), (2002, 2024), (2002, 2024), (2002, 2003), (2002, 2003), (2002, 2003), (2017, 2019), (2017, 2019), (2019, 2024), (2016, 2024), (2016, 2024), (2016, 2024), (2009, 2011), (2009, 2011), (2009, 2011), (2001, 2005), (2001, 2005), (2001, 2005), (2001, 2012), (2001, 2012), (2001, 2012), (2018, 2024), (2018, 2024), (2007, 2024), (2007, 2024), (2007, 2024), (2017, 2024), (2017, 2024), (2017, 2024), (1994, 2003), (1994, 2003), (1994, 2003), (1976, 1978), (1976, 1978), (1976, 1978), (1993, 1996), (1993, 1996), (1993, 1996), (2018, 2024), (2018, 2024), (2018, 2024), (2019, 2024), (2019, 2024), (2019, 2024), (2019, 2024), (2019, 2024), (2020, 2024), (2020, 2024), (2020, 2024), (2005, 2014), (2004, 2013), (2004, 2013), (2004, 2013), (2013, 2014), (1992, 2011), (1992, 2011), (2019, 2024), (2019, 2024), (2019, 2024), (2019, 2024), (2019, 2024), (2019, 2024), (2015, 2024), (2015, 2024), (2015, 2024), (2015, 2024), (2015, 2024), (2016, 2017), (2016, 2017), (2016, 2017), (1987, 1990), (1987, 1990), (1987, 1990), (2019, 2024), (2019, 2024), (2019, 2024), (2012, 2017), (2012, 2017), (1994, 1999), (1994, 1999), (1994, 1999), (2019, 2024), (2019, 2024), (2019, 2024), (2015, 2016), (2015, 2016), (2015, 2016), (2010, 2014), (2010, 2014), (1995, 1996), (1995, 1996), (1999, 2002), (1999, 2002), (1999, 2002), (2017, 2019), (2017, 2019), (2019, 2020), (2019, 2020), (2019, 2020), (2004, 2024), (2004, 2024), (2014, 2015), (2014, 2015), (2014, 2015), (2012, 2014), (1993, 2011), (1993, 2011), (1993, 2011), (1984, 2024), (2014, 2024), (2002, 2019), (2008, 2024), (2006, 2024), (1965, 2024), (1965, 2024), (2018, 2024), (2018, 2024), (2020, 2024), (2020, 2024), (2019, 2024), (2019, 2024), (2019, 2024), (2009, 2016), (2020, 2024), (2020, 2024), (2020, 2024), (2011, 2018), (2011, 2018), (1999, 2001), (1999, 2001), (1999, 2001), (1994, 1995), (1999, 2001), (1999, 2001), (1999, 2001), (2012, 2014), (2012, 2014), (2012, 2014), (2011, 2014), (2011, 2014), (2011, 2014), (2016, 2019), (2016, 2019), (2019, 2024), (2015, 2016), (2011, 2018), (2011, 2018), (2004, 2009), (2011, 2014), (2011, 2014), (2011, 2014), (2018, 2024), (2018, 2024), (2018, 2024), (2002, 2014), (2002, 2014), (2002, 2014), (1979, 1988), (1979, 1988), (2013, 2015), (2013, 2015), (2013, 2015), (2011, 2024), (2011, 2024), (2018, 2024), (2017, 2018), (2017, 2018), (2014, 2024), (2018, 2024), (2018, 2024), (2018, 2024), (2013, 2014), (2013, 2014), (2016, 2020), (2016, 2020), (2010, 2024), (2010, 2024), (2015, 2016), (2015, 2016), (2017, 2024), (2017, 2024), (2017, 2024), (2019, 2020), (2019, 2020), (2019, 2020), (1986, 1988), (1986, 1988), (1968, 1970), (1968, 1970), (1968, 1970), (1973, 1975), (1973, 1975), (1973, 1975), (2016, 2017), (2016, 2017), (2016, 2017), (2019, 2024), (2019, 2024), (2019, 2024), (2005, 2006), (2005, 2006), (2005, 2006), (1999, 2000), (2019, 2024), (2019, 2024), (2020, 2024), (2020, 2024), (2020, 2024), (2012, 2024), (2012, 2024), (2014, 2024), (2014, 2024), (2014, 2024), (1989, 1997), (1989, 1997), (1996, 2024), (1996, 2024), (1996, 2024), (2014, 2015), (2014, 2015), (2014, 2015), (2007, 2017), (2007, 2017), (2007, 2017), (2016, 2017), (2016, 2017), (2015, 2024), (2015, 2024), (2015, 2024), (2020, 2024), (2020, 2024), (2020, 2024), (2019, 2024), (2019, 2024), (2012, 2024), (2012, 2024), (2010, 2024), (1974, 1979), (2006, 2010), (2006, 2010), (2016, 2024), (2016, 2024), (2016, 2024), (1977, 1981), (1977, 1981), (1977, 1981), (1957, 2024), (1957, 2024), (1957, 2024), (2015, 2024), (2015, 2024), (2015, 2024), (2011, 2013), (2011, 2013), (2011, 2013), (2020, 2024), (2020, 2024), (2020, 2024), (1983, 1995), (1983, 1995), (1983, 1995), (2008, 2012), (2008, 2012), (2016, 2024), (2016, 2024), (2016, 2024), (2004, 2020), (1980, 2006), (1980, 2006), (1980, 2006), (2011, 2012), (2011, 2012), (2011, 2012), (2010, 2012), (2010, 2012), (2010, 2016), (2010, 2016), (2010, 2016), (1999, 2000), (1999, 2000), (1999, 2000), (2017, 2024), (2017, 2024), (1965, 1971), (1965, 1971), (2014, 2015), (2014, 2015), (2014, 2015), (2019, 2024), (2019, 2024), (2019, 2024), (2006, 2024), (2006, 2024), (2006, 2024), (2014, 2024), (2014, 2024), (2008, 2024), (2020, 2024), (2020, 2024), (2020, 2024), (2019, 2024), (2017, 2018), (2017, 2018), (1982, 1990), (1972, 1981), (1972, 1981), (1972, 1981), (2018, 2024), (2018, 2024), (2014, 2015), (2014, 2015), (2011, 2013), (2011, 2013), (2017, 2018), (2017, 2018), (2017, 2018), (2011, 2024), (2006, 2024), (2006, 2024), (2006, 2024), (1968, 1980), (1968, 1980), (1968, 1980), (1987, 1993), (2009, 2010), (2009, 2010), (2009, 2010), (2017, 2024), (2017, 2024), (2017, 2024), (1998, 2001), (1998, 2001), (1998, 2001), (2015, 2018), (2015, 2018), (2015, 2018), (2017, 2024), (2017, 2024), (2017, 2024), (1990, 2001), (1990, 2001), (1999, 2005), (2000, 2009), (2000, 2009), (2000, 2009), (2019, 2024), (2005, 2008), (2005, 2008), (2005, 2008), (1999, 2010), (1968, 1977), (1968, 1977), (2007, 2011), (2014, 2015), (2014, 2015), (2010, 2017), (2010, 2017), (2020, 2024), (2020, 2024), (2020, 2024), (1999, 2024), (1999, 2024), (1991, 1995), (1991, 1995), (1991, 1995), (2017, 2024), (2017, 2024), (2017, 2024), (1983, 1988), (1983, 1988), (1983, 1988), (1973, 2024), (1973, 2024), (1993, 1996), (1993, 1996), (1993, 1996), (2010, 2024), (1994, 1997), (1994, 1997), (1994, 1997), (2014, 2015), (2014, 2015), (2014, 2015), (2013, 2024), (2013, 2024), (2020, 2024), (2020, 2024), (2020, 2024), (2008, 2010), (2010, 2011), (2010, 2011), (2010, 2011), (2018, 2024), (2018, 2024), (2018, 2024), (2001, 2002), (2008, 2010), (2008, 2010), (2008, 2010), (2019, 2024), (1975, 1979), (2016, 2024), (2016, 2024), (2016, 2024), (2010, 2012), (2004, 2014), (2010, 2013), (2010, 2013), (2010, 2013), (2016, 2017), (2016, 2017), (2016, 2017), (1988, 2024), (1988, 2024), (2006, 2024), (2006, 2024), (2000, 2002), (2000, 2002), (2018, 2024), (2018, 2024), (2018, 2024), (2016, 2017), (2016, 2017), (2015, 2024), (2015, 2024), (2015, 2024), (2020, 2024), (2020, 2024), (2020, 2024), (2015, 2024), (2016, 2018), (2016, 2018), (2016, 2018), (2000, 2019), (2000, 2019), (2000, 2019), (1974, 1977), (1974, 1977), (2015, 2024), (2015, 2024), (2015, 2024), (2002, 2003), (2002, 2003), (2002, 2003), (2000, 2004), (2000, 2004), (2011, 2012), (2011, 2012), (2013, 2014), (2013, 2014), (2018, 2024), (2012, 2015), (2017, 2018), (2011, 2024), (2011, 2024), (1999, 2000), (1999, 2000), (1992, 1997), (1992, 1997), (1992, 1997), (2020, 2024), (2020, 2024), (2020, 2024), (2018, 2024), (2018, 2024), (2018, 2024), (2015, 2024), (2015, 2024), (2015, 2024), (1989, 2020), (1989, 2020), (1989, 2020), (1999, 2000), (2017, 2024), (2017, 2024), (2017, 2024), (2012, 2015), (2012, 2015), (2012, 2015), (2012, 2020), (2012, 2020), (2012, 2020), (2020, 2024), (2016, 2024), (2016, 2024), (2016, 2024), (2017, 2018), (2017, 2018), (2017, 2018), (2012, 2015), (2012, 2015), (2012, 2015), (2015, 2024), (2014, 2024), (1984, 1990), (1984, 1990), (2015, 2024), (2015, 2024), (2015, 2024), (2007, 2020), (2007, 2020), (2013, 2015), (2011, 2016), (2011, 2016), (2011, 2016), (2018, 2024), (2018, 2024), (2018, 2024), (2017, 2019), (2017, 2019), (1970, 1975), (1988, 1998), (1988, 1998), (1976, 1983), (1976, 1983), (1976, 1983), (2005, 2006), (2005, 2006), (2005, 2006), (2004, 2005), (2004, 2005), (2004, 2005), (2005, 2024), (2005, 2024), (2005, 2024), (2005, 2006), (2014, 2017), (2014, 2017), (2014, 2017), (2012, 2024), (2012, 2024), (2012, 2024), (2007, 2015), (2007, 2015), (1972, 1975), (1972, 1975), (1972, 1975), (2001, 2005), (2001, 2005), (2001, 2005), (2016, 2024), (2016, 2024), (2016, 2024), (2002, 2003), (2002, 2003), (2003, 2007), (2003, 2007), (2001, 2024), (2001, 2024), (2001, 2024), (2017, 2024), (2017, 2024), (2017, 2024), (2011, 2013), (2011, 2013), (2011, 2013), (2018, 2024), (2018, 2024), (2018, 2024), (2016, 2017), (2016, 2017), (1996, 2015), (1996, 2015), (1996, 2015), (2005, 2020), (2005, 2020), (2005, 2020), (2014, 2015), (2020, 2024), (2020, 2024), (2020, 2024), (2013, 2024), (2013, 2024), (2013, 2024), (2003, 2015), (2003, 2015), (2003, 2015), (1957, 1966), (1957, 1966), (1957, 1966), (2015, 2016), (2010, 2017), (2010, 2017), (2010, 2017), (2005, 2013), (2005, 2013), (2005, 2013), (2012, 2024), (2012, 2024), (2012, 2024), (2006, 2008), (2006, 2008), (2006, 2008), (2016, 2024), (2016, 2024), (2016, 2024), (2012, 2015), (2012, 2015), (2012, 2015), (2018, 2019), (2018, 2019), (1985, 1987), (1985, 1987), (1985, 1987), (2013, 2016), (2013, 2016), (2013, 2016), (2014, 2015), (2010, 2024), (2010, 2024), (2010, 2024), (2000, 2002), (2000, 2002), (2000, 2002), (2019, 2024), (2019, 2024), (2019, 2024), (2011, 2024), (2011, 2024), (1995, 2002), (1995, 2002), (2004, 2010), (2004, 2010), (2004, 2010), (1994, 1998), (1994, 1998), (2017, 2020), (2017, 2020), (2017, 2020), (1994, 2004), (1994, 2004), (1994, 2004), (1972, 1977), (1972, 1977), (1972, 1977), (2019, 2024), (2019, 2024), (2001, 2005), (2001, 2005), (2001, 2005), (1991, 1992), (1991, 1992), (1991, 1992), (1955, 1975), (2017, 2024), (2017, 2024), (2017, 2024), (2012, 2018), (2012, 2018)]\n"
     ]
    }
   ],
   "source": [
    "import re\n",
    "\n",
    "\n",
    "# Define a function to clean each string\n",
    "def clean_year_string(string):\n",
    "    # Regular expression pattern to extract start and end years\n",
    "    pattern = r'\\b(\\d{4})–?(\\d{4})?\\b'\n",
    "\n",
    "    # Search for start and end years in the string\n",
    "    match = re.search(pattern, string)\n",
    "\n",
    "    if match:\n",
    "        # Extract start and end years\n",
    "        start_year = int(match.group(1))\n",
    "        end_year = int(match.group(2)) if match.group(2) else 2024\n",
    "    else:\n",
    "        # Handle cases where no match is found\n",
    "        start_year = 1955\n",
    "        end_year = 2024\n",
    "\n",
    "    return start_year, end_year\n",
    "\n",
    "# Clean each string in the feature\n",
    "cleaned_features = [clean_year_string(string) for string in gen_df[\"Runtime_of_Series\"]]\n",
    "\n",
    "print(cleaned_features)\n"
   ]
  },
  {
   "cell_type": "code",
   "execution_count": 29,
   "id": "dc8f21b9",
   "metadata": {},
   "outputs": [],
   "source": [
    "gen_df[\"Runtime_of_Series\"]=cleaned_features"
   ]
  },
  {
   "cell_type": "code",
   "execution_count": 30,
   "id": "f9cdeb47",
   "metadata": {},
   "outputs": [
    {
     "data": {
      "text/plain": [
       "0       (2011, 2019)\n",
       "0       (2011, 2019)\n",
       "0       (2011, 2019)\n",
       "1       (2008, 2013)\n",
       "1       (2008, 2013)\n",
       "            ...     \n",
       "1998    (2017, 2024)\n",
       "1998    (2017, 2024)\n",
       "1998    (2017, 2024)\n",
       "1999    (2012, 2018)\n",
       "1999    (2012, 2018)\n",
       "Name: Runtime_of_Series, Length: 4996, dtype: object"
      ]
     },
     "execution_count": 30,
     "metadata": {},
     "output_type": "execute_result"
    }
   ],
   "source": [
    "gen_df[\"Runtime_of_Series\"]"
   ]
  },
  {
   "cell_type": "code",
   "execution_count": 31,
   "id": "496b1f2f",
   "metadata": {},
   "outputs": [
    {
     "data": {
      "text/html": [
       "<div>\n",
       "<style scoped>\n",
       "    .dataframe tbody tr th:only-of-type {\n",
       "        vertical-align: middle;\n",
       "    }\n",
       "\n",
       "    .dataframe tbody tr th {\n",
       "        vertical-align: top;\n",
       "    }\n",
       "\n",
       "    .dataframe thead th {\n",
       "        text-align: right;\n",
       "    }\n",
       "</style>\n",
       "<table border=\"1\" class=\"dataframe\">\n",
       "  <thead>\n",
       "    <tr style=\"text-align: right;\">\n",
       "      <th></th>\n",
       "      <th>Series_Title</th>\n",
       "      <th>Runtime_of_Series</th>\n",
       "      <th>Certificate</th>\n",
       "      <th>IMDB_Rating</th>\n",
       "      <th>No_of_Votes</th>\n",
       "      <th>Genre</th>\n",
       "    </tr>\n",
       "  </thead>\n",
       "  <tbody>\n",
       "    <tr>\n",
       "      <th>0</th>\n",
       "      <td>Game of Thrones</td>\n",
       "      <td>(2011, 2019)</td>\n",
       "      <td>A</td>\n",
       "      <td>9.3</td>\n",
       "      <td>1773458</td>\n",
       "      <td>Action</td>\n",
       "    </tr>\n",
       "    <tr>\n",
       "      <th>0</th>\n",
       "      <td>Game of Thrones</td>\n",
       "      <td>(2011, 2019)</td>\n",
       "      <td>A</td>\n",
       "      <td>9.3</td>\n",
       "      <td>1773458</td>\n",
       "      <td>Adventure</td>\n",
       "    </tr>\n",
       "    <tr>\n",
       "      <th>0</th>\n",
       "      <td>Game of Thrones</td>\n",
       "      <td>(2011, 2019)</td>\n",
       "      <td>A</td>\n",
       "      <td>9.3</td>\n",
       "      <td>1773458</td>\n",
       "      <td>Drama</td>\n",
       "    </tr>\n",
       "    <tr>\n",
       "      <th>1</th>\n",
       "      <td>Breaking Bad</td>\n",
       "      <td>(2008, 2013)</td>\n",
       "      <td>18</td>\n",
       "      <td>9.5</td>\n",
       "      <td>1468887</td>\n",
       "      <td>Crime</td>\n",
       "    </tr>\n",
       "    <tr>\n",
       "      <th>1</th>\n",
       "      <td>Breaking Bad</td>\n",
       "      <td>(2008, 2013)</td>\n",
       "      <td>18</td>\n",
       "      <td>9.5</td>\n",
       "      <td>1468887</td>\n",
       "      <td>Drama</td>\n",
       "    </tr>\n",
       "    <tr>\n",
       "      <th>...</th>\n",
       "      <td>...</td>\n",
       "      <td>...</td>\n",
       "      <td>...</td>\n",
       "      <td>...</td>\n",
       "      <td>...</td>\n",
       "      <td>...</td>\n",
       "    </tr>\n",
       "    <tr>\n",
       "      <th>1998</th>\n",
       "      <td>The Cheat</td>\n",
       "      <td>(2017, 2024)</td>\n",
       "      <td>18</td>\n",
       "      <td>8.8</td>\n",
       "      <td>5111</td>\n",
       "      <td>Action</td>\n",
       "    </tr>\n",
       "    <tr>\n",
       "      <th>1998</th>\n",
       "      <td>The Cheat</td>\n",
       "      <td>(2017, 2024)</td>\n",
       "      <td>18</td>\n",
       "      <td>8.8</td>\n",
       "      <td>5111</td>\n",
       "      <td>Drama</td>\n",
       "    </tr>\n",
       "    <tr>\n",
       "      <th>1998</th>\n",
       "      <td>The Cheat</td>\n",
       "      <td>(2017, 2024)</td>\n",
       "      <td>18</td>\n",
       "      <td>8.8</td>\n",
       "      <td>5111</td>\n",
       "      <td>Sci-Fi</td>\n",
       "    </tr>\n",
       "    <tr>\n",
       "      <th>1999</th>\n",
       "      <td>Comic Book Men</td>\n",
       "      <td>(2012, 2018)</td>\n",
       "      <td>18</td>\n",
       "      <td>7.7</td>\n",
       "      <td>5109</td>\n",
       "      <td>Comedy</td>\n",
       "    </tr>\n",
       "    <tr>\n",
       "      <th>1999</th>\n",
       "      <td>Comic Book Men</td>\n",
       "      <td>(2012, 2018)</td>\n",
       "      <td>18</td>\n",
       "      <td>7.7</td>\n",
       "      <td>5109</td>\n",
       "      <td>Reality-TV</td>\n",
       "    </tr>\n",
       "  </tbody>\n",
       "</table>\n",
       "<p>4996 rows × 6 columns</p>\n",
       "</div>"
      ],
      "text/plain": [
       "         Series_Title Runtime_of_Series Certificate  IMDB_Rating  No_of_Votes  \\\n",
       "0     Game of Thrones      (2011, 2019)           A          9.3      1773458   \n",
       "0     Game of Thrones      (2011, 2019)           A          9.3      1773458   \n",
       "0     Game of Thrones      (2011, 2019)           A          9.3      1773458   \n",
       "1        Breaking Bad      (2008, 2013)          18          9.5      1468887   \n",
       "1        Breaking Bad      (2008, 2013)          18          9.5      1468887   \n",
       "...               ...               ...         ...          ...          ...   \n",
       "1998        The Cheat      (2017, 2024)          18          8.8         5111   \n",
       "1998        The Cheat      (2017, 2024)          18          8.8         5111   \n",
       "1998        The Cheat      (2017, 2024)          18          8.8         5111   \n",
       "1999   Comic Book Men      (2012, 2018)          18          7.7         5109   \n",
       "1999   Comic Book Men      (2012, 2018)          18          7.7         5109   \n",
       "\n",
       "           Genre  \n",
       "0         Action  \n",
       "0      Adventure  \n",
       "0          Drama  \n",
       "1          Crime  \n",
       "1          Drama  \n",
       "...          ...  \n",
       "1998      Action  \n",
       "1998       Drama  \n",
       "1998      Sci-Fi  \n",
       "1999      Comedy  \n",
       "1999  Reality-TV  \n",
       "\n",
       "[4996 rows x 6 columns]"
      ]
     },
     "execution_count": 31,
     "metadata": {},
     "output_type": "execute_result"
    }
   ],
   "source": [
    "gen_df"
   ]
  },
  {
   "cell_type": "markdown",
   "id": "234341b3",
   "metadata": {},
   "source": [
    "#### converting tuple in to string and stard and end years are seperated"
   ]
  },
  {
   "cell_type": "code",
   "execution_count": 32,
   "id": "6931cf2a",
   "metadata": {},
   "outputs": [],
   "source": [
    "gen_df[\"Runtime_of_Series\"]=gen_df[\"Runtime_of_Series\"].apply(lambda x:\",\".join(map(str,x)))"
   ]
  },
  {
   "cell_type": "code",
   "execution_count": 33,
   "id": "fe0c6f36",
   "metadata": {},
   "outputs": [
    {
     "data": {
      "text/plain": [
       "0       2011,2019\n",
       "0       2011,2019\n",
       "0       2011,2019\n",
       "1       2008,2013\n",
       "1       2008,2013\n",
       "          ...    \n",
       "1998    2017,2024\n",
       "1998    2017,2024\n",
       "1998    2017,2024\n",
       "1999    2012,2018\n",
       "1999    2012,2018\n",
       "Name: Runtime_of_Series, Length: 4996, dtype: object"
      ]
     },
     "execution_count": 33,
     "metadata": {},
     "output_type": "execute_result"
    }
   ],
   "source": [
    "gen_df[\"Runtime_of_Series\"]"
   ]
  },
  {
   "cell_type": "code",
   "execution_count": 34,
   "id": "4241b40a",
   "metadata": {},
   "outputs": [],
   "source": [
    "gen_df['start_year'] = gen_df['Runtime_of_Series'].apply(lambda x: str(x).split(',')[0] if x !=np.nan else np.nan)"
   ]
  },
  {
   "cell_type": "code",
   "execution_count": 35,
   "id": "e2097ef7",
   "metadata": {},
   "outputs": [],
   "source": [
    "gen_df['end_year']=gen_df['Runtime_of_Series'].apply(lambda x: str(x).split(',')[1] if x !=np.nan else np.nan)"
   ]
  },
  {
   "cell_type": "code",
   "execution_count": 36,
   "id": "9d142863",
   "metadata": {},
   "outputs": [
    {
     "data": {
      "text/html": [
       "<div>\n",
       "<style scoped>\n",
       "    .dataframe tbody tr th:only-of-type {\n",
       "        vertical-align: middle;\n",
       "    }\n",
       "\n",
       "    .dataframe tbody tr th {\n",
       "        vertical-align: top;\n",
       "    }\n",
       "\n",
       "    .dataframe thead th {\n",
       "        text-align: right;\n",
       "    }\n",
       "</style>\n",
       "<table border=\"1\" class=\"dataframe\">\n",
       "  <thead>\n",
       "    <tr style=\"text-align: right;\">\n",
       "      <th></th>\n",
       "      <th>Series_Title</th>\n",
       "      <th>Runtime_of_Series</th>\n",
       "      <th>Certificate</th>\n",
       "      <th>IMDB_Rating</th>\n",
       "      <th>No_of_Votes</th>\n",
       "      <th>Genre</th>\n",
       "      <th>start_year</th>\n",
       "      <th>end_year</th>\n",
       "    </tr>\n",
       "  </thead>\n",
       "  <tbody>\n",
       "    <tr>\n",
       "      <th>0</th>\n",
       "      <td>Game of Thrones</td>\n",
       "      <td>2011,2019</td>\n",
       "      <td>A</td>\n",
       "      <td>9.3</td>\n",
       "      <td>1773458</td>\n",
       "      <td>Action</td>\n",
       "      <td>2011</td>\n",
       "      <td>2019</td>\n",
       "    </tr>\n",
       "    <tr>\n",
       "      <th>0</th>\n",
       "      <td>Game of Thrones</td>\n",
       "      <td>2011,2019</td>\n",
       "      <td>A</td>\n",
       "      <td>9.3</td>\n",
       "      <td>1773458</td>\n",
       "      <td>Adventure</td>\n",
       "      <td>2011</td>\n",
       "      <td>2019</td>\n",
       "    </tr>\n",
       "    <tr>\n",
       "      <th>0</th>\n",
       "      <td>Game of Thrones</td>\n",
       "      <td>2011,2019</td>\n",
       "      <td>A</td>\n",
       "      <td>9.3</td>\n",
       "      <td>1773458</td>\n",
       "      <td>Drama</td>\n",
       "      <td>2011</td>\n",
       "      <td>2019</td>\n",
       "    </tr>\n",
       "    <tr>\n",
       "      <th>1</th>\n",
       "      <td>Breaking Bad</td>\n",
       "      <td>2008,2013</td>\n",
       "      <td>18</td>\n",
       "      <td>9.5</td>\n",
       "      <td>1468887</td>\n",
       "      <td>Crime</td>\n",
       "      <td>2008</td>\n",
       "      <td>2013</td>\n",
       "    </tr>\n",
       "    <tr>\n",
       "      <th>1</th>\n",
       "      <td>Breaking Bad</td>\n",
       "      <td>2008,2013</td>\n",
       "      <td>18</td>\n",
       "      <td>9.5</td>\n",
       "      <td>1468887</td>\n",
       "      <td>Drama</td>\n",
       "      <td>2008</td>\n",
       "      <td>2013</td>\n",
       "    </tr>\n",
       "    <tr>\n",
       "      <th>...</th>\n",
       "      <td>...</td>\n",
       "      <td>...</td>\n",
       "      <td>...</td>\n",
       "      <td>...</td>\n",
       "      <td>...</td>\n",
       "      <td>...</td>\n",
       "      <td>...</td>\n",
       "      <td>...</td>\n",
       "    </tr>\n",
       "    <tr>\n",
       "      <th>1998</th>\n",
       "      <td>The Cheat</td>\n",
       "      <td>2017,2024</td>\n",
       "      <td>18</td>\n",
       "      <td>8.8</td>\n",
       "      <td>5111</td>\n",
       "      <td>Action</td>\n",
       "      <td>2017</td>\n",
       "      <td>2024</td>\n",
       "    </tr>\n",
       "    <tr>\n",
       "      <th>1998</th>\n",
       "      <td>The Cheat</td>\n",
       "      <td>2017,2024</td>\n",
       "      <td>18</td>\n",
       "      <td>8.8</td>\n",
       "      <td>5111</td>\n",
       "      <td>Drama</td>\n",
       "      <td>2017</td>\n",
       "      <td>2024</td>\n",
       "    </tr>\n",
       "    <tr>\n",
       "      <th>1998</th>\n",
       "      <td>The Cheat</td>\n",
       "      <td>2017,2024</td>\n",
       "      <td>18</td>\n",
       "      <td>8.8</td>\n",
       "      <td>5111</td>\n",
       "      <td>Sci-Fi</td>\n",
       "      <td>2017</td>\n",
       "      <td>2024</td>\n",
       "    </tr>\n",
       "    <tr>\n",
       "      <th>1999</th>\n",
       "      <td>Comic Book Men</td>\n",
       "      <td>2012,2018</td>\n",
       "      <td>18</td>\n",
       "      <td>7.7</td>\n",
       "      <td>5109</td>\n",
       "      <td>Comedy</td>\n",
       "      <td>2012</td>\n",
       "      <td>2018</td>\n",
       "    </tr>\n",
       "    <tr>\n",
       "      <th>1999</th>\n",
       "      <td>Comic Book Men</td>\n",
       "      <td>2012,2018</td>\n",
       "      <td>18</td>\n",
       "      <td>7.7</td>\n",
       "      <td>5109</td>\n",
       "      <td>Reality-TV</td>\n",
       "      <td>2012</td>\n",
       "      <td>2018</td>\n",
       "    </tr>\n",
       "  </tbody>\n",
       "</table>\n",
       "<p>4996 rows × 8 columns</p>\n",
       "</div>"
      ],
      "text/plain": [
       "         Series_Title Runtime_of_Series Certificate  IMDB_Rating  No_of_Votes  \\\n",
       "0     Game of Thrones         2011,2019           A          9.3      1773458   \n",
       "0     Game of Thrones         2011,2019           A          9.3      1773458   \n",
       "0     Game of Thrones         2011,2019           A          9.3      1773458   \n",
       "1        Breaking Bad         2008,2013          18          9.5      1468887   \n",
       "1        Breaking Bad         2008,2013          18          9.5      1468887   \n",
       "...               ...               ...         ...          ...          ...   \n",
       "1998        The Cheat         2017,2024          18          8.8         5111   \n",
       "1998        The Cheat         2017,2024          18          8.8         5111   \n",
       "1998        The Cheat         2017,2024          18          8.8         5111   \n",
       "1999   Comic Book Men         2012,2018          18          7.7         5109   \n",
       "1999   Comic Book Men         2012,2018          18          7.7         5109   \n",
       "\n",
       "           Genre start_year end_year  \n",
       "0         Action       2011     2019  \n",
       "0      Adventure       2011     2019  \n",
       "0          Drama       2011     2019  \n",
       "1          Crime       2008     2013  \n",
       "1          Drama       2008     2013  \n",
       "...          ...        ...      ...  \n",
       "1998      Action       2017     2024  \n",
       "1998       Drama       2017     2024  \n",
       "1998      Sci-Fi       2017     2024  \n",
       "1999      Comedy       2012     2018  \n",
       "1999  Reality-TV       2012     2018  \n",
       "\n",
       "[4996 rows x 8 columns]"
      ]
     },
     "execution_count": 36,
     "metadata": {},
     "output_type": "execute_result"
    }
   ],
   "source": [
    "gen_df"
   ]
  },
  {
   "cell_type": "code",
   "execution_count": 37,
   "id": "0bc0dda6",
   "metadata": {},
   "outputs": [],
   "source": [
    "gen_df.drop(columns=\"Runtime_of_Series\",inplace=True)"
   ]
  },
  {
   "cell_type": "code",
   "execution_count": 38,
   "id": "230a2d93",
   "metadata": {},
   "outputs": [
    {
     "data": {
      "text/html": [
       "<div>\n",
       "<style scoped>\n",
       "    .dataframe tbody tr th:only-of-type {\n",
       "        vertical-align: middle;\n",
       "    }\n",
       "\n",
       "    .dataframe tbody tr th {\n",
       "        vertical-align: top;\n",
       "    }\n",
       "\n",
       "    .dataframe thead th {\n",
       "        text-align: right;\n",
       "    }\n",
       "</style>\n",
       "<table border=\"1\" class=\"dataframe\">\n",
       "  <thead>\n",
       "    <tr style=\"text-align: right;\">\n",
       "      <th></th>\n",
       "      <th>Series_Title</th>\n",
       "      <th>Certificate</th>\n",
       "      <th>IMDB_Rating</th>\n",
       "      <th>No_of_Votes</th>\n",
       "      <th>Genre</th>\n",
       "      <th>start_year</th>\n",
       "      <th>end_year</th>\n",
       "    </tr>\n",
       "  </thead>\n",
       "  <tbody>\n",
       "    <tr>\n",
       "      <th>0</th>\n",
       "      <td>Game of Thrones</td>\n",
       "      <td>A</td>\n",
       "      <td>9.3</td>\n",
       "      <td>1773458</td>\n",
       "      <td>Action</td>\n",
       "      <td>2011</td>\n",
       "      <td>2019</td>\n",
       "    </tr>\n",
       "    <tr>\n",
       "      <th>0</th>\n",
       "      <td>Game of Thrones</td>\n",
       "      <td>A</td>\n",
       "      <td>9.3</td>\n",
       "      <td>1773458</td>\n",
       "      <td>Adventure</td>\n",
       "      <td>2011</td>\n",
       "      <td>2019</td>\n",
       "    </tr>\n",
       "    <tr>\n",
       "      <th>0</th>\n",
       "      <td>Game of Thrones</td>\n",
       "      <td>A</td>\n",
       "      <td>9.3</td>\n",
       "      <td>1773458</td>\n",
       "      <td>Drama</td>\n",
       "      <td>2011</td>\n",
       "      <td>2019</td>\n",
       "    </tr>\n",
       "    <tr>\n",
       "      <th>1</th>\n",
       "      <td>Breaking Bad</td>\n",
       "      <td>18</td>\n",
       "      <td>9.5</td>\n",
       "      <td>1468887</td>\n",
       "      <td>Crime</td>\n",
       "      <td>2008</td>\n",
       "      <td>2013</td>\n",
       "    </tr>\n",
       "    <tr>\n",
       "      <th>1</th>\n",
       "      <td>Breaking Bad</td>\n",
       "      <td>18</td>\n",
       "      <td>9.5</td>\n",
       "      <td>1468887</td>\n",
       "      <td>Drama</td>\n",
       "      <td>2008</td>\n",
       "      <td>2013</td>\n",
       "    </tr>\n",
       "    <tr>\n",
       "      <th>...</th>\n",
       "      <td>...</td>\n",
       "      <td>...</td>\n",
       "      <td>...</td>\n",
       "      <td>...</td>\n",
       "      <td>...</td>\n",
       "      <td>...</td>\n",
       "      <td>...</td>\n",
       "    </tr>\n",
       "    <tr>\n",
       "      <th>1998</th>\n",
       "      <td>The Cheat</td>\n",
       "      <td>18</td>\n",
       "      <td>8.8</td>\n",
       "      <td>5111</td>\n",
       "      <td>Action</td>\n",
       "      <td>2017</td>\n",
       "      <td>2024</td>\n",
       "    </tr>\n",
       "    <tr>\n",
       "      <th>1998</th>\n",
       "      <td>The Cheat</td>\n",
       "      <td>18</td>\n",
       "      <td>8.8</td>\n",
       "      <td>5111</td>\n",
       "      <td>Drama</td>\n",
       "      <td>2017</td>\n",
       "      <td>2024</td>\n",
       "    </tr>\n",
       "    <tr>\n",
       "      <th>1998</th>\n",
       "      <td>The Cheat</td>\n",
       "      <td>18</td>\n",
       "      <td>8.8</td>\n",
       "      <td>5111</td>\n",
       "      <td>Sci-Fi</td>\n",
       "      <td>2017</td>\n",
       "      <td>2024</td>\n",
       "    </tr>\n",
       "    <tr>\n",
       "      <th>1999</th>\n",
       "      <td>Comic Book Men</td>\n",
       "      <td>18</td>\n",
       "      <td>7.7</td>\n",
       "      <td>5109</td>\n",
       "      <td>Comedy</td>\n",
       "      <td>2012</td>\n",
       "      <td>2018</td>\n",
       "    </tr>\n",
       "    <tr>\n",
       "      <th>1999</th>\n",
       "      <td>Comic Book Men</td>\n",
       "      <td>18</td>\n",
       "      <td>7.7</td>\n",
       "      <td>5109</td>\n",
       "      <td>Reality-TV</td>\n",
       "      <td>2012</td>\n",
       "      <td>2018</td>\n",
       "    </tr>\n",
       "  </tbody>\n",
       "</table>\n",
       "<p>4996 rows × 7 columns</p>\n",
       "</div>"
      ],
      "text/plain": [
       "         Series_Title Certificate  IMDB_Rating  No_of_Votes       Genre  \\\n",
       "0     Game of Thrones           A          9.3      1773458      Action   \n",
       "0     Game of Thrones           A          9.3      1773458   Adventure   \n",
       "0     Game of Thrones           A          9.3      1773458       Drama   \n",
       "1        Breaking Bad          18          9.5      1468887       Crime   \n",
       "1        Breaking Bad          18          9.5      1468887       Drama   \n",
       "...               ...         ...          ...          ...         ...   \n",
       "1998        The Cheat          18          8.8         5111      Action   \n",
       "1998        The Cheat          18          8.8         5111       Drama   \n",
       "1998        The Cheat          18          8.8         5111      Sci-Fi   \n",
       "1999   Comic Book Men          18          7.7         5109      Comedy   \n",
       "1999   Comic Book Men          18          7.7         5109  Reality-TV   \n",
       "\n",
       "     start_year end_year  \n",
       "0          2011     2019  \n",
       "0          2011     2019  \n",
       "0          2011     2019  \n",
       "1          2008     2013  \n",
       "1          2008     2013  \n",
       "...         ...      ...  \n",
       "1998       2017     2024  \n",
       "1998       2017     2024  \n",
       "1998       2017     2024  \n",
       "1999       2012     2018  \n",
       "1999       2012     2018  \n",
       "\n",
       "[4996 rows x 7 columns]"
      ]
     },
     "execution_count": 38,
     "metadata": {},
     "output_type": "execute_result"
    }
   ],
   "source": [
    "gen_df"
   ]
  },
  {
   "cell_type": "code",
   "execution_count": 39,
   "id": "c163bd72",
   "metadata": {},
   "outputs": [
    {
     "data": {
      "text/plain": [
       "0"
      ]
     },
     "execution_count": 39,
     "metadata": {},
     "output_type": "execute_result"
    }
   ],
   "source": [
    "gen_df[\"start_year\"].isnull().sum()"
   ]
  },
  {
   "cell_type": "code",
   "execution_count": 40,
   "id": "4aa2bf2e",
   "metadata": {},
   "outputs": [
    {
     "data": {
      "text/plain": [
       "0"
      ]
     },
     "execution_count": 40,
     "metadata": {},
     "output_type": "execute_result"
    }
   ],
   "source": [
    "gen_df[\"end_year\"].isnull().sum()"
   ]
  },
  {
   "cell_type": "code",
   "execution_count": 41,
   "id": "61b3bdc2",
   "metadata": {},
   "outputs": [
    {
     "data": {
      "text/plain": [
       "dtype('O')"
      ]
     },
     "execution_count": 41,
     "metadata": {},
     "output_type": "execute_result"
    }
   ],
   "source": [
    "gen_df[\"start_year\"].dtypes"
   ]
  },
  {
   "cell_type": "code",
   "execution_count": 42,
   "id": "3f8594e6",
   "metadata": {},
   "outputs": [],
   "source": [
    "#creating a function to convert all NaT values into zero and making it as a integer feature\n",
    "def convert_int(x):\n",
    "    try:\n",
    "        return int(x)\n",
    "    except :\n",
    "        return 0"
   ]
  },
  {
   "cell_type": "code",
   "execution_count": 43,
   "id": "1aafef82",
   "metadata": {},
   "outputs": [],
   "source": [
    "gen_df['start_year'] = gen_df['start_year'].apply(convert_int)"
   ]
  },
  {
   "cell_type": "code",
   "execution_count": 44,
   "id": "e5d2ef9f",
   "metadata": {},
   "outputs": [],
   "source": [
    "gen_df['end_year'] = gen_df['end_year'].apply(convert_int)"
   ]
  },
  {
   "cell_type": "code",
   "execution_count": 45,
   "id": "6c578653",
   "metadata": {},
   "outputs": [],
   "source": [
    "cleaned_data= gen_df.copy()"
   ]
  },
  {
   "cell_type": "code",
   "execution_count": 46,
   "id": "82f51220",
   "metadata": {},
   "outputs": [],
   "source": [
    "cleaned_data.to_csv(\"cleaned_imdb_df.csv\")"
   ]
  },
  {
   "cell_type": "markdown",
   "id": "609d7d09",
   "metadata": {},
   "source": [
    "#### Build chart function"
   ]
  },
  {
   "cell_type": "code",
   "execution_count": 47,
   "id": "520a2cd8",
   "metadata": {},
   "outputs": [],
   "source": [
    "def build_chart(gen_df,percentile=0.08):\n",
    "    #ask for user preferred genre\n",
    "    print('Input preferred Genre')\n",
    "    Genre = input().capitalize()\n",
    "    #ask for lower limit of start year\n",
    "    print('Input lowest start year')\n",
    "    low_start_year = int(input())\n",
    "    #ask for upper limit of start year\n",
    "    print('Input highest start year')\n",
    "    high_start_year = int(input())\n",
    "    #ask for lower limit of end year\n",
    "    print('Input lowest end year')\n",
    "    low_end_year = int(input())\n",
    "    #ask for lower limit of end year\n",
    "    print('Input highest end year')\n",
    "    high_end_year = int(input())\n",
    "    #creating a new variable which stores the preferred movies.Copy the contents of gen_df\n",
    "    movies = gen_df.copy()\n",
    "    #filter data based on filters\n",
    "    movies = movies[(movies['Genre']==Genre) & (movies['start_year']>=low_start_year) & (movies['end_year']<=low_end_year) & (movies['end_year']<=high_end_year)]\n",
    "    #compute the values for C and m based on this filtered data\n",
    "    C = movies['IMDB_Rating'].mean()\n",
    "    m = movies['No_of_Votes'].quantile(percentile)\n",
    "    #only consider movies that have higher than m votes.save this in a new df\n",
    "    q_movies = movies.copy().loc[movies['No_of_Votes']>=m]\n",
    "    #calculate the score using the IMDB formula\n",
    "    q_movies['score'] = q_movies.apply(lambda x: (x['No_of_Votes']/(x['No_of_Votes']+m)* x['IMDB_Rating']) + (m/(m+x['No_of_Votes'])*C),axis=1)\n",
    "    #sort values in descending order of their scores\n",
    "    q_movies = q_movies.sort_values(by='score',ascending=False)\n",
    "    return q_movies\n",
    "    "
   ]
  },
  {
   "cell_type": "code",
   "execution_count": 54,
   "id": "dac9c59b",
   "metadata": {},
   "outputs": [
    {
     "name": "stdout",
     "output_type": "stream",
     "text": [
      "Input preferred Genre\n",
      "drama\n",
      "Input lowest start year\n",
      "1960\n",
      "Input highest start year\n",
      "2010\n",
      "Input lowest end year\n",
      "1970\n",
      "Input highest end year\n",
      "2020\n"
     ]
    },
    {
     "data": {
      "text/html": [
       "<div>\n",
       "<style scoped>\n",
       "    .dataframe tbody tr th:only-of-type {\n",
       "        vertical-align: middle;\n",
       "    }\n",
       "\n",
       "    .dataframe tbody tr th {\n",
       "        vertical-align: top;\n",
       "    }\n",
       "\n",
       "    .dataframe thead th {\n",
       "        text-align: right;\n",
       "    }\n",
       "</style>\n",
       "<table border=\"1\" class=\"dataframe\">\n",
       "  <thead>\n",
       "    <tr style=\"text-align: right;\">\n",
       "      <th></th>\n",
       "      <th>Series_Title</th>\n",
       "      <th>Certificate</th>\n",
       "      <th>IMDB_Rating</th>\n",
       "      <th>No_of_Votes</th>\n",
       "      <th>Genre</th>\n",
       "      <th>start_year</th>\n",
       "      <th>end_year</th>\n",
       "      <th>score</th>\n",
       "    </tr>\n",
       "  </thead>\n",
       "  <tbody>\n",
       "    <tr>\n",
       "      <th>1043</th>\n",
       "      <td>The Prisoner</td>\n",
       "      <td>18</td>\n",
       "      <td>8.4</td>\n",
       "      <td>12406</td>\n",
       "      <td>Drama</td>\n",
       "      <td>1967</td>\n",
       "      <td>1968</td>\n",
       "      <td>8.4</td>\n",
       "    </tr>\n",
       "  </tbody>\n",
       "</table>\n",
       "</div>"
      ],
      "text/plain": [
       "      Series_Title Certificate  IMDB_Rating  No_of_Votes  Genre  start_year  \\\n",
       "1043  The Prisoner          18          8.4        12406  Drama        1967   \n",
       "\n",
       "      end_year  score  \n",
       "1043      1968    8.4  "
      ]
     },
     "execution_count": 54,
     "metadata": {},
     "output_type": "execute_result"
    }
   ],
   "source": [
    "build_chart(gen_df).head()"
   ]
  },
  {
   "cell_type": "code",
   "execution_count": 49,
   "id": "9e6b5e8e",
   "metadata": {},
   "outputs": [
    {
     "name": "stdout",
     "output_type": "stream",
     "text": [
      "Input preferred Genre\n",
      "action\n",
      "Input lowest start year\n",
      "1975\n",
      "Input highest start year\n",
      "1990\n",
      "Input lowest end year\n",
      "1980\n",
      "Input highest end year\n",
      "2022\n"
     ]
    },
    {
     "data": {
      "text/html": [
       "<div>\n",
       "<style scoped>\n",
       "    .dataframe tbody tr th:only-of-type {\n",
       "        vertical-align: middle;\n",
       "    }\n",
       "\n",
       "    .dataframe tbody tr th {\n",
       "        vertical-align: top;\n",
       "    }\n",
       "\n",
       "    .dataframe thead th {\n",
       "        text-align: right;\n",
       "    }\n",
       "</style>\n",
       "<table border=\"1\" class=\"dataframe\">\n",
       "  <thead>\n",
       "    <tr style=\"text-align: right;\">\n",
       "      <th></th>\n",
       "      <th>Series_Title</th>\n",
       "      <th>Certificate</th>\n",
       "      <th>IMDB_Rating</th>\n",
       "      <th>No_of_Votes</th>\n",
       "      <th>Genre</th>\n",
       "      <th>start_year</th>\n",
       "      <th>end_year</th>\n",
       "      <th>score</th>\n",
       "    </tr>\n",
       "  </thead>\n",
       "  <tbody>\n",
       "    <tr>\n",
       "      <th>961</th>\n",
       "      <td>Battlestar Galactica</td>\n",
       "      <td>18</td>\n",
       "      <td>7.2</td>\n",
       "      <td>13890</td>\n",
       "      <td>Action</td>\n",
       "      <td>1978</td>\n",
       "      <td>1979</td>\n",
       "      <td>7.136319</td>\n",
       "    </tr>\n",
       "    <tr>\n",
       "      <th>1577</th>\n",
       "      <td>Wonder Woman</td>\n",
       "      <td>18</td>\n",
       "      <td>7.1</td>\n",
       "      <td>7146</td>\n",
       "      <td>Action</td>\n",
       "      <td>1975</td>\n",
       "      <td>1979</td>\n",
       "      <td>7.052411</td>\n",
       "    </tr>\n",
       "    <tr>\n",
       "      <th>1482</th>\n",
       "      <td>Starsky and Hutch</td>\n",
       "      <td>18</td>\n",
       "      <td>7.0</td>\n",
       "      <td>7862</td>\n",
       "      <td>Action</td>\n",
       "      <td>1975</td>\n",
       "      <td>1979</td>\n",
       "      <td>7.000000</td>\n",
       "    </tr>\n",
       "  </tbody>\n",
       "</table>\n",
       "</div>"
      ],
      "text/plain": [
       "              Series_Title Certificate  IMDB_Rating  No_of_Votes   Genre  \\\n",
       "961   Battlestar Galactica          18          7.2        13890  Action   \n",
       "1577          Wonder Woman          18          7.1         7146  Action   \n",
       "1482     Starsky and Hutch          18          7.0         7862  Action   \n",
       "\n",
       "      start_year  end_year     score  \n",
       "961         1978      1979  7.136319  \n",
       "1577        1975      1979  7.052411  \n",
       "1482        1975      1979  7.000000  "
      ]
     },
     "execution_count": 49,
     "metadata": {},
     "output_type": "execute_result"
    }
   ],
   "source": [
    "build_chart(gen_df).head()"
   ]
  },
  {
   "cell_type": "code",
   "execution_count": null,
   "id": "49e19dc8",
   "metadata": {},
   "outputs": [],
   "source": []
  }
 ],
 "metadata": {
  "kernelspec": {
   "display_name": "Python 3 (ipykernel)",
   "language": "python",
   "name": "python3"
  },
  "language_info": {
   "codemirror_mode": {
    "name": "ipython",
    "version": 3
   },
   "file_extension": ".py",
   "mimetype": "text/x-python",
   "name": "python",
   "nbconvert_exporter": "python",
   "pygments_lexer": "ipython3",
   "version": "3.11.5"
  }
 },
 "nbformat": 4,
 "nbformat_minor": 5
}
